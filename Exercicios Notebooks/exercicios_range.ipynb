{
 "cells": [
  {
   "cell_type": "markdown",
   "source": [
    "<h1>Exercícios</h1>\r\n",
    "\r\n",
    "<p>1 - Escreva um programa que imprima as números inteiros de 1 a 50. Para múltiplos de três imprima \"Fizz\" na frente do númeeo, e para os múltiplos de cinco imprima \"Buzz\". Para números que são múltiplos de três e cinco imprima \"FizzBuzz\".</p> "
   ],
   "metadata": {}
  },
  {
   "cell_type": "code",
   "execution_count": null,
   "source": [
    "for i in range(1,51):\r\n",
    "    if i % 3 == 0 and i % 5 == 0:\r\n",
    "        print(f'{i} - FizzBuzz')\r\n",
    "    elif i % 3 == 0:\r\n",
    "        print(f'{i} - Fizz')\r\n",
    "    elif i % 5 == 0:\r\n",
    "        print(f'{i} - Buzz')"
   ],
   "outputs": [],
   "metadata": {}
  }
 ],
 "metadata": {
  "orig_nbformat": 4,
  "language_info": {
   "name": "python",
   "version": "3.9.6"
  },
  "kernelspec": {
   "name": "python3",
   "display_name": "Python 3.9.6 64-bit (system)"
  },
  "interpreter": {
   "hash": "1202e818cab8df35c21d4988ef14ff76590a458d6bab584fe1b1c3f6f0c17a35"
  }
 },
 "nbformat": 4,
 "nbformat_minor": 2
}