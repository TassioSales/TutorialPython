{
 "cells": [
  {
   "cell_type": "markdown",
   "source": [
    "<h1>Exercicios</h1>\r\n",
    "\r\n",
    "<h2>1 - Dada a lista</h2>"
   ],
   "metadata": {}
  },
  {
   "cell_type": "code",
   "execution_count": 2,
   "source": [
    "lista  = [1,45,67,7,8,6,54,4,3,1,21,1,9,0]"
   ],
   "outputs": [],
   "metadata": {}
  },
  {
   "cell_type": "markdown",
   "source": [
    "<p>imprima apenas os números pares</p>"
   ],
   "metadata": {}
  },
  {
   "cell_type": "code",
   "execution_count": 3,
   "source": [
    "for num in lista:\r\n",
    "    if num % 2 == 0:\r\n",
    "        print(f\"O numero {num} e PAR\")\r\n",
    "    else:\r\n",
    "        print(f\"O numero {num} e IMPA\")"
   ],
   "outputs": [
    {
     "output_type": "stream",
     "name": "stdout",
     "text": [
      "O numero 1 e IMPA\n",
      "O numero 45 e IMPA\n",
      "O numero 67 e IMPA\n",
      "O numero 7 e IMPA\n",
      "O numero 8 e PAR\n",
      "O numero 6 e PAR\n",
      "O numero 54 e PAR\n",
      "O numero 4 e PAR\n",
      "O numero 3 e IMPA\n",
      "O numero 1 e IMPA\n",
      "O numero 21 e IMPA\n",
      "O numero 1 e IMPA\n",
      "O numero 9 e IMPA\n",
      "O numero 0 e PAR\n"
     ]
    }
   ],
   "metadata": {}
  },
  {
   "cell_type": "markdown",
   "source": [
    "<h2>2 - Usando a string \"Hello python\", imprima letra por letra apenas a palavra 'python' </h2>"
   ],
   "metadata": {}
  },
  {
   "cell_type": "code",
   "execution_count": 5,
   "source": [
    "frase =  \"Hello python\"\r\n",
    "for letra in frase[6:]:\r\n",
    "    print(letra)"
   ],
   "outputs": [
    {
     "output_type": "stream",
     "name": "stdout",
     "text": [
      "p\n",
      "y\n",
      "t\n",
      "h\n",
      "o\n",
      "n\n"
     ]
    }
   ],
   "metadata": {}
  }
 ],
 "metadata": {
  "orig_nbformat": 4,
  "language_info": {
   "name": "python",
   "version": "3.8.8",
   "mimetype": "text/x-python",
   "codemirror_mode": {
    "name": "ipython",
    "version": 3
   },
   "pygments_lexer": "ipython3",
   "nbconvert_exporter": "python",
   "file_extension": ".py"
  },
  "kernelspec": {
   "name": "python3",
   "display_name": "Python 3.8.8 64-bit ('base': conda)"
  },
  "interpreter": {
   "hash": "513dc2e41d739bb2c947903f3c0bbf636d03aa53ab50e61c694a27481c81805e"
  }
 },
 "nbformat": 4,
 "nbformat_minor": 2
}