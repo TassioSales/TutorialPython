{
 "cells": [
  {
   "cell_type": "markdown",
   "id": "c936545a",
   "metadata": {},
   "source": [
    "<h1>Exercicios</h1>"
   ]
  },
  {
   "cell_type": "markdown",
   "id": "fdd26a5a",
   "metadata": {},
   "source": [
    "<h3>1 - Imprima a string \"Hello Python\" de trás pra frente usando Indexação</h3>"
   ]
  },
  {
   "cell_type": "code",
   "execution_count": 2,
   "id": "e48f9585",
   "metadata": {},
   "outputs": [],
   "source": [
    "#Declarando a string \"Hello Python\"\n",
    "palavra  = \"Hello Python\""
   ]
  },
  {
   "cell_type": "code",
   "execution_count": 4,
   "id": "6dad8c30",
   "metadata": {},
   "outputs": [
    {
     "name": "stdout",
     "output_type": "stream",
     "text": [
      "nohtyP olleH\n"
     ]
    }
   ],
   "source": [
    "#imprimindo a String Hello Python\n",
    "print(palavra[::-1])"
   ]
  },
  {
   "cell_type": "markdown",
   "id": "4538dbc0",
   "metadata": {},
   "source": [
    "<h3>2 - Usando a string \"Hello Python\" imprima apenas Python</h3>"
   ]
  },
  {
   "cell_type": "code",
   "execution_count": 6,
   "id": "976256d1",
   "metadata": {},
   "outputs": [
    {
     "name": "stdout",
     "output_type": "stream",
     "text": [
      "Python\n"
     ]
    }
   ],
   "source": [
    "#imprimindo a palavra Python da string Hello Python\n",
    "print(palavra[6:])"
   ]
  },
  {
   "cell_type": "markdown",
   "id": "284c2289",
   "metadata": {},
   "source": [
    "<h3>3 - Descubra o comprimento da string \"Hello Python\". Use a função len()</h3>"
   ]
  },
  {
   "cell_type": "code",
   "execution_count": 8,
   "id": "5a2f12a6",
   "metadata": {},
   "outputs": [
    {
     "name": "stdout",
     "output_type": "stream",
     "text": [
      "12\n"
     ]
    }
   ],
   "source": [
    "#imprimindo o tamanho da string\n",
    "print(len(palavra))"
   ]
  }
 ],
 "metadata": {
  "kernelspec": {
   "display_name": "Python 3",
   "language": "python",
   "name": "python3"
  },
  "language_info": {
   "codemirror_mode": {
    "name": "ipython",
    "version": 3
   },
   "file_extension": ".py",
   "mimetype": "text/x-python",
   "name": "python",
   "nbconvert_exporter": "python",
   "pygments_lexer": "ipython3",
   "version": "3.8.8"
  }
 },
 "nbformat": 4,
 "nbformat_minor": 5
}
