{
 "cells": [
  {
   "cell_type": "markdown",
   "id": "8f6c1411",
   "metadata": {},
   "source": [
    "<h1>Exercicios</h1>"
   ]
  },
  {
   "cell_type": "markdown",
   "id": "13626251",
   "metadata": {},
   "source": [
    "<h3>1 - Imprima a string \"Hello Python\" de trás pra frente usando Indexação</h3>"
   ]
  },
  {
   "cell_type": "code",
   "execution_count": 2,
   "id": "960d2e31",
   "metadata": {},
   "outputs": [],
   "source": [
    "#Declarando a string \"Hello Python\"\n",
    "palavra  = \"Hello Python\""
   ]
  },
  {
   "cell_type": "code",
   "execution_count": 4,
   "id": "1bf2e42c",
   "metadata": {},
   "outputs": [
    {
     "name": "stdout",
     "output_type": "stream",
     "text": [
      "nohtyP olleH\n"
     ]
    }
   ],
   "source": [
    "#imprimindo a String Hello Python\n",
    "print(palavra[::-1])"
   ]
  },
  {
   "cell_type": "markdown",
   "id": "01427344",
   "metadata": {},
   "source": [
    "<h3>2 - Usando a string \"Hello Python\" imprima apenas Python</h3>"
   ]
  },
  {
   "cell_type": "code",
   "execution_count": 6,
   "id": "04ca9eae",
   "metadata": {},
   "outputs": [
    {
     "name": "stdout",
     "output_type": "stream",
     "text": [
      "Python\n"
     ]
    }
   ],
   "source": [
    "#imprimindo a palavra Python da string Hello Python\n",
    "print(palavra[6:])"
   ]
  },
  {
   "cell_type": "markdown",
   "id": "72d17cff",
   "metadata": {},
   "source": [
    "<h3>3 - Descubra o comprimento da string \"Hello Python\". Use a função len()</h3>"
   ]
  },
  {
   "cell_type": "code",
   "execution_count": null,
   "id": "9fc46104",
   "metadata": {},
   "outputs": [],
   "source": [
    "#imprimindo"
   ]
  }
 ],
 "metadata": {
  "kernelspec": {
   "display_name": "Python 3",
   "language": "python",
   "name": "python3"
  },
  "language_info": {
   "codemirror_mode": {
    "name": "ipython",
    "version": 3
   },
   "file_extension": ".py",
   "mimetype": "text/x-python",
   "name": "python",
   "nbconvert_exporter": "python",
   "pygments_lexer": "ipython3",
   "version": "3.8.8"
  }
 },
 "nbformat": 4,
 "nbformat_minor": 5
}
