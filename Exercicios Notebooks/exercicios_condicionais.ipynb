{
 "cells": [
  {
   "cell_type": "markdown",
   "source": [
    "<h1>Exercicios</h1>\r\n",
    "\r\n",
    "<p>1 - Escreva um programa que indentifique se um triangulo é valido ou não. Para um triangulo ser válidado a soma de um de seus dois lados tem que ser sempre maior ou igual ao terceiro lado, caso não seja, o triangulo é valido</p>\r\n",
    "\r\n",
    "considere esses dados para seu codigo:\r\n",
    "\r\n",
    "\r\n",
    "<li>a = 3</li>\r\n",
    "<li>b = 6</li>\r\n",
    "<li>c = 9</li>\r\n",
    "\r\n",
    "triangulo e valido"
   ],
   "metadata": {}
  },
  {
   "cell_type": "code",
   "execution_count": 10,
   "source": [
    "r1 = int(input(\"Primeiro seguimento: \"))\r\n",
    "r2 = int(input(\"Segundo seguimento:  \"))\r\n",
    "r3 = int(input(\"Terceiro seguimento: \"))\r\n",
    " \r\n",
    "if r1 < r2 + r3 and r2 < r1 + r3 and r3 < r1 + r2:\r\n",
    "    print(f\"Os segmentos {r1}, {r2}, {r3} PODEM FORMA TRIANGULO\") \r\n",
    "else:\r\n",
    "    print(f\"Os segmentos {r1}, {r2}, {r3} NAO PODEM FORMA TRIANGULO\")"
   ],
   "outputs": [],
   "metadata": {}
  }
 ],
 "metadata": {
  "orig_nbformat": 4,
  "language_info": {
   "name": "python",
   "version": "3.8.8",
   "mimetype": "text/x-python",
   "codemirror_mode": {
    "name": "ipython",
    "version": 3
   },
   "pygments_lexer": "ipython3",
   "nbconvert_exporter": "python",
   "file_extension": ".py"
  },
  "kernelspec": {
   "name": "python3",
   "display_name": "Python 3.8.8 64-bit ('base': conda)"
  },
  "interpreter": {
   "hash": "513dc2e41d739bb2c947903f3c0bbf636d03aa53ab50e61c694a27481c81805e"
  }
 },
 "nbformat": 4,
 "nbformat_minor": 2
}