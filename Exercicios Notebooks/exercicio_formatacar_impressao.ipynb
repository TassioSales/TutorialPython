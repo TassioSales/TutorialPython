{
 "cells": [
  {
   "cell_type": "markdown",
   "source": [
    "<h1>Exercicios</h1>"
   ],
   "metadata": {}
  },
  {
   "cell_type": "markdown",
   "source": [
    "<h3>1 - Dada as variáveis</h3>"
   ],
   "metadata": {}
  },
  {
   "cell_type": "code",
   "execution_count": 1,
   "source": [
    "Planeta = \"Terra\"\r\n",
    "Diametro = 12742"
   ],
   "outputs": [],
   "metadata": {}
  },
  {
   "cell_type": "markdown",
   "source": [
    "<p>Use <strong>format(), FSrtring, %</strong> para printar a seguinte frase</p>"
   ],
   "metadata": {}
  },
  {
   "cell_type": "code",
   "execution_count": 3,
   "source": [
    "print(\"O diametro da {} e de {} kilômetros\".format(Planeta, Diametro))\r\n",
    "print(f\"O diametro da {Planeta} e de {Diametro} kilômetros\")\r\n",
    "print(\"O diametro da %s e de %r kilômetros\" %(Planeta, Diametro))"
   ],
   "outputs": [
    {
     "output_type": "stream",
     "name": "stdout",
     "text": [
      "O diametro da Terra e de 12742 kilômetros\n",
      "O diametro da Terra e de 12742 kilômetros\n",
      "O diametro da Terra e de 12742 kilômetros\n"
     ]
    }
   ],
   "metadata": {}
  }
 ],
 "metadata": {
  "orig_nbformat": 4,
  "language_info": {
   "name": "python",
   "version": "3.9.6",
   "mimetype": "text/x-python",
   "codemirror_mode": {
    "name": "ipython",
    "version": 3
   },
   "pygments_lexer": "ipython3",
   "nbconvert_exporter": "python",
   "file_extension": ".py"
  },
  "kernelspec": {
   "name": "python3",
   "display_name": "Python 3.9.6 64-bit (system)"
  },
  "interpreter": {
   "hash": "1202e818cab8df35c21d4988ef14ff76590a458d6bab584fe1b1c3f6f0c17a35"
  }
 },
 "nbformat": 4,
 "nbformat_minor": 2
}