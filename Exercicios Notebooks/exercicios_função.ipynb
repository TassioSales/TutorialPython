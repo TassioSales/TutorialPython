{
 "cells": [
  {
   "cell_type": "markdown",
   "source": [
    "<p>Exercicios</p>\r\n",
    "\r\n",
    "<p>1 - Crie uma função que retire o dominio de um email. Por exemplo, passando como parâmetro \"user@domain.com\" retornaria \"domain.com\"</p>\r\n"
   ],
   "metadata": {}
  },
  {
   "cell_type": "code",
   "execution_count": 1,
   "source": [
    "def obterDominio(dominio):\r\n",
    "    link = dominio.split(\"@\")[-1]\r\n",
    "    return link"
   ],
   "outputs": [],
   "metadata": {}
  },
  {
   "cell_type": "code",
   "execution_count": 2,
   "source": [
    "print(obterDominio(\"tassio.ljs@gmail.com\"))"
   ],
   "outputs": [
    {
     "output_type": "stream",
     "name": "stdout",
     "text": [
      "gmail.com\n"
     ]
    }
   ],
   "metadata": {}
  },
  {
   "cell_type": "markdown",
   "source": [
    "<p>2 - Escreva uma função que calcula o volume de uma esfera dado seu raio</p>\r\n",
    "\r\n",
    "<p><strong>obs</strong>: sintase a vontade para usar pi como 3,1416. porem se você quiser mais precisão, e importante a biblioteca math, e use pi como math.pi.</p>"
   ],
   "metadata": {}
  },
  {
   "cell_type": "code",
   "execution_count": 3,
   "source": [
    "import math \r\n",
    "def volume(rad):\r\n",
    "    vol = (rad ** 3 ) * (4/3) * math.pi\r\n",
    "    return vol"
   ],
   "outputs": [],
   "metadata": {}
  },
  {
   "cell_type": "code",
   "execution_count": 6,
   "source": [
    "volume(100)"
   ],
   "outputs": [
    {
     "output_type": "execute_result",
     "data": {
      "text/plain": [
       "4188790.2047863905"
      ]
     },
     "metadata": {},
     "execution_count": 6
    }
   ],
   "metadata": {}
  }
 ],
 "metadata": {
  "orig_nbformat": 4,
  "language_info": {
   "name": "python",
   "version": "3.8.8",
   "mimetype": "text/x-python",
   "codemirror_mode": {
    "name": "ipython",
    "version": 3
   },
   "pygments_lexer": "ipython3",
   "nbconvert_exporter": "python",
   "file_extension": ".py"
  },
  "kernelspec": {
   "name": "python3",
   "display_name": "Python 3.8.8 64-bit ('base': conda)"
  },
  "interpreter": {
   "hash": "513dc2e41d739bb2c947903f3c0bbf636d03aa53ab50e61c694a27481c81805e"
  }
 },
 "nbformat": 4,
 "nbformat_minor": 2
}