{
 "cells": [
  {
   "cell_type": "markdown",
   "id": "928749d5",
   "metadata": {},
   "source": [
    "<h3>Quanto e 7 elevado a potencia de 4 ?</h3>"
   ]
  },
  {
   "cell_type": "markdown",
   "id": "41047f57",
   "metadata": {},
   "source": [
    "<p>Resposta</p>"
   ]
  },
  {
   "cell_type": "code",
   "execution_count": 1,
   "id": "17eb0fff",
   "metadata": {},
   "outputs": [
    {
     "name": "stdout",
     "output_type": "stream",
     "text": [
      "2401\n"
     ]
    }
   ],
   "source": [
    "#definindo a variavel a como 7 que sera elevedo\n",
    "a = 7\n",
    "\n",
    "#definindo o variavel b como 4 o valor pela qual a variavel a sera elevado\n",
    "b = 4\n",
    "\n",
    "# definindo a variavel elevacao para fazer o calculo da variavel a e b\n",
    "elevacao = a ** b\n",
    "\n",
    "#mostrando na tela o resultadopara o usuario\n",
    "print(elevacao)"
   ]
  },
  {
   "cell_type": "markdown",
   "id": "62aadd45",
   "metadata": {},
   "source": [
    "<h3>Quanto e 21424 dividido por 89 ?</h3>"
   ]
  },
  {
   "cell_type": "markdown",
   "id": "d4e3c1b0",
   "metadata": {},
   "source": [
    "<p>Resposta</p>"
   ]
  },
  {
   "cell_type": "code",
   "execution_count": null,
   "id": "8f83b2e8",
   "metadata": {},
   "outputs": [],
   "source": [
    "#definindo a variavel A como 21424 o numero que sera dividido\n",
    "A = 21424\n",
    "\n",
    "#definindo a variabel B como 89 o numero que sera o divisor\n",
    "B = 89\n",
    "\n",
    "#definindo a variabel divisao para realisar o calculo \n",
    "divisao = A / B\n",
    "\n",
    "#mostrando na tela o resultado para o usuario\n",
    "print(divisao)"
   ]
  }
 ],
 "metadata": {
  "kernelspec": {
   "display_name": "Python 3",
   "language": "python",
   "name": "python3"
  },
  "language_info": {
   "codemirror_mode": {
    "name": "ipython",
    "version": 3
   },
   "file_extension": ".py",
   "mimetype": "text/x-python",
   "name": "python",
   "nbconvert_exporter": "python",
   "pygments_lexer": "ipython3",
   "version": "3.8.8"
  }
 },
 "nbformat": 4,
 "nbformat_minor": 5
}
