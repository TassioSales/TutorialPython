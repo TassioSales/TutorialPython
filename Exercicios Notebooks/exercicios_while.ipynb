{
 "cells": [
  {
   "cell_type": "markdown",
   "source": [
    "<h2>Exercicios</h2>\r\n",
    "\r\n",
    "<p>1 - Usando o <strong>while</strong> escreva um programa que imprima esse desenho</p>\r\n",
    "\r\n",
    "<p>\r\n",
    "    <strong>\r\n",
    "        *<br>\r\n",
    "        **<br>\r\n",
    "        ***<br>\r\n",
    "        ****<br>\r\n",
    "        *****<br>\r\n",
    "        ****<br>\r\n",
    "        ***<br>\r\n",
    "        **<br>\r\n",
    "        *<br>\r\n",
    "    </strong>\r\n",
    "</p>"
   ],
   "metadata": {}
  },
  {
   "cell_type": "code",
   "execution_count": 2,
   "source": [
    "x = 0\r\n",
    " \r\n",
    "while x < 5:\r\n",
    "     print(\"*\" * x)\r\n",
    "     x += 1 \r\n",
    "\r\n",
    "while x > 0:\r\n",
    "    print(\"*\" * x)\r\n",
    "    x -= 1"
   ],
   "outputs": [
    {
     "output_type": "stream",
     "name": "stdout",
     "text": [
      "\n",
      "*\n",
      "**\n",
      "***\n",
      "****\n",
      "*****\n",
      "****\n",
      "***\n",
      "**\n",
      "*\n"
     ]
    }
   ],
   "metadata": {}
  }
 ],
 "metadata": {
  "orig_nbformat": 4,
  "language_info": {
   "name": "python",
   "version": "3.9.6",
   "mimetype": "text/x-python",
   "codemirror_mode": {
    "name": "ipython",
    "version": 3
   },
   "pygments_lexer": "ipython3",
   "nbconvert_exporter": "python",
   "file_extension": ".py"
  },
  "kernelspec": {
   "name": "python3",
   "display_name": "Python 3.9.6 64-bit (system)"
  },
  "interpreter": {
   "hash": "1202e818cab8df35c21d4988ef14ff76590a458d6bab584fe1b1c3f6f0c17a35"
  }
 },
 "nbformat": 4,
 "nbformat_minor": 2
}