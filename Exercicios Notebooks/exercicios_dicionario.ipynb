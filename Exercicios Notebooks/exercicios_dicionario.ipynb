{
 "cells": [
  {
   "cell_type": "markdown",
   "source": [
    "<h1>Exercícios</h1>\r\n",
    "<h3>Usando chaves e indexação. pegue o hello dos seguintes dicionarios:</h3>"
   ],
   "metadata": {}
  },
  {
   "cell_type": "code",
   "execution_count": 3,
   "source": [
    "d = {\"simple_key\" : \"hello\"}\r\n",
    "d[\"simple_key\"]"
   ],
   "outputs": [
    {
     "output_type": "execute_result",
     "data": {
      "text/plain": [
       "'hello'"
      ]
     },
     "metadata": {},
     "execution_count": 3
    }
   ],
   "metadata": {}
  },
  {
   "cell_type": "code",
   "execution_count": 4,
   "source": [
    "d = {\"K1\" : {\"K2\" : \"hello\"}}\r\n",
    "d[\"K1\"][\"K2\"]"
   ],
   "outputs": [
    {
     "output_type": "execute_result",
     "data": {
      "text/plain": [
       "'hello'"
      ]
     },
     "metadata": {},
     "execution_count": 4
    }
   ],
   "metadata": {}
  },
  {
   "cell_type": "code",
   "execution_count": 12,
   "source": [
    "d = {\"K1\" : [{\"nest_key\" : [\"this is deep\", [\"hello\"]]}]}\r\n",
    "d[\"K1\"][0][\"nest_key\"][1][0]"
   ],
   "outputs": [
    {
     "output_type": "execute_result",
     "data": {
      "text/plain": [
       "'hello'"
      ]
     },
     "metadata": {},
     "execution_count": 12
    }
   ],
   "metadata": {}
  },
  {
   "cell_type": "code",
   "execution_count": 25,
   "source": [
    "d =  {'K1':[1, 2, {\"K2\":[\"this is tryke\", {\"tough\" : [1, 2, [\"hello\"]]}]}]}\r\n",
    "d[\"K1\"][2][\"K2\"][1][\"tough\"][2][0]"
   ],
   "outputs": [
    {
     "output_type": "execute_result",
     "data": {
      "text/plain": [
       "'hello'"
      ]
     },
     "metadata": {},
     "execution_count": 25
    }
   ],
   "metadata": {}
  }
 ],
 "metadata": {
  "orig_nbformat": 4,
  "language_info": {
   "name": "python",
   "version": "3.9.6",
   "mimetype": "text/x-python",
   "codemirror_mode": {
    "name": "ipython",
    "version": 3
   },
   "pygments_lexer": "ipython3",
   "nbconvert_exporter": "python",
   "file_extension": ".py"
  },
  "kernelspec": {
   "name": "python3",
   "display_name": "Python 3.9.6 64-bit (system)"
  },
  "interpreter": {
   "hash": "1202e818cab8df35c21d4988ef14ff76590a458d6bab584fe1b1c3f6f0c17a35"
  }
 },
 "nbformat": 4,
 "nbformat_minor": 2
}