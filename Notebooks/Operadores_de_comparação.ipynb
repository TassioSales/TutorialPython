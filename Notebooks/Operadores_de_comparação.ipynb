{
 "cells": [
  {
   "cell_type": "markdown",
   "source": [
    "<h1>Operadores de comparação</h1>\r\n",
    "\r\n",
    "<p>Nesta seção estaremos  aprendendo sobre Operadores de comparação em python. Esses operadores nos permitirão comparara variaveis e    produzir um valor booleano (Verdadeiro ou Falso).\r\n",
    "    Se você tiver alguma base em Matematica, esses operadores devem ser muito diretos.\r\n",
    "    E primeiro lugar, apresentaremos uma tabela dos opedores de comparação e depois trabalharesmos com alguns exemplos: </p>"
   ],
   "metadata": {}
  },
  {
   "cell_type": "markdown",
   "source": [
    "<h1>Tabelos de operadores de compração</h1>\r\n",
    "\r\n",
    "<table>\r\n",
    "    <tr>\r\n",
    "        <td>Operador</td>\r\n",
    "        <td>Descrição</td>\r\n",
    "        <td>Exemplo</td>\r\n",
    "    </tr>\r\n",
    "    <tr>\r\n",
    "        <td>==</td>\r\n",
    "        <td>Se os valores de dois operandos forem iguais, a condição torna-se verdadeira.</td>\r\n",
    "        <td>(a == b ) não e verdade</td>    \r\n",
    "    </tr>\r\n",
    "    <tr>\r\n",
    "        <td> != </td>\r\n",
    "        <td>Se valores de dois operadores não forem iguais, a codição torna-se verdadeira.</td>\r\n",
    "        <td>(a != b) e verdadeiro</td>\r\n",
    "    </tr>\r\n",
    "    <tr>\r\n",
    "        <td> > </td>\r\n",
    "        <td>Se o valor do operador esquerdo for maior que o valor do operando direito, a condiçao torna-se verdadeira</td>\r\n",
    "        <td>(a > b) não e verdadeiro</td>\r\n",
    "    </tr>\r\n",
    "    <tr>\r\n",
    "        <td> < </td>\r\n",
    "        <td>Se o valor do operando esquerdo for inferior ao valor do operando direito, a condição torna-se verdaderia</td>\r\n",
    "        <td>(a < b) é verdadeiro</td>\r\n",
    "    </tr>\r\n",
    "    <tr>\r\n",
    "        <td> >= </td>\r\n",
    "        <td>Se o valor do operando esquerdo for maior ou igual ao valor do operando direito, a condição torna-se verdadeira</td>\r\n",
    "        <td>(a >= b) não e verdadeira</td>\r\n",
    "    </tr>\r\n",
    "    <tr>\r\n",
    "        <td> <= </td>\r\n",
    "        <td>Se o valor do operando esquerdo for menor ou igual ao valor do operando direito, a condição torna-se verdadeira</td>\r\n",
    "        <td>(a <= b) é verdadeira</td>\r\n",
    "    </tr>\r\n",
    "</table>"
   ],
   "metadata": {}
  },
  {
   "cell_type": "markdown",
   "source": [
    "<p>Vamos agora trabalhar com exemplos rápidos de cada um desses.</p>"
   ],
   "metadata": {}
  },
  {
   "cell_type": "markdown",
   "source": [
    "<h2>Igualdade</h2>"
   ],
   "metadata": {}
  },
  {
   "cell_type": "code",
   "execution_count": 2,
   "source": [
    "2 == 2"
   ],
   "outputs": [
    {
     "output_type": "execute_result",
     "data": {
      "text/plain": [
       "True"
      ]
     },
     "metadata": {},
     "execution_count": 2
    }
   ],
   "metadata": {}
  },
  {
   "cell_type": "code",
   "execution_count": 1,
   "source": [
    "1 == 0"
   ],
   "outputs": [
    {
     "output_type": "execute_result",
     "data": {
      "text/plain": [
       "False"
      ]
     },
     "metadata": {},
     "execution_count": 1
    }
   ],
   "metadata": {}
  },
  {
   "cell_type": "markdown",
   "source": [
    "<h2>Desigualdade</h2>"
   ],
   "metadata": {}
  },
  {
   "cell_type": "code",
   "execution_count": 3,
   "source": [
    "2 != 1 "
   ],
   "outputs": [
    {
     "output_type": "execute_result",
     "data": {
      "text/plain": [
       "True"
      ]
     },
     "metadata": {},
     "execution_count": 3
    }
   ],
   "metadata": {}
  },
  {
   "cell_type": "code",
   "execution_count": 4,
   "source": [
    "2 != 2"
   ],
   "outputs": [
    {
     "output_type": "execute_result",
     "data": {
      "text/plain": [
       "False"
      ]
     },
     "metadata": {},
     "execution_count": 4
    }
   ],
   "metadata": {}
  },
  {
   "cell_type": "markdown",
   "source": [
    "<h2>Maior que</h2>"
   ],
   "metadata": {}
  },
  {
   "cell_type": "code",
   "execution_count": 5,
   "source": [
    "2 > 1"
   ],
   "outputs": [
    {
     "output_type": "execute_result",
     "data": {
      "text/plain": [
       "True"
      ]
     },
     "metadata": {},
     "execution_count": 5
    }
   ],
   "metadata": {}
  },
  {
   "cell_type": "code",
   "execution_count": 6,
   "source": [
    "2 > 4"
   ],
   "outputs": [
    {
     "output_type": "execute_result",
     "data": {
      "text/plain": [
       "False"
      ]
     },
     "metadata": {},
     "execution_count": 6
    }
   ],
   "metadata": {}
  },
  {
   "cell_type": "markdown",
   "source": [
    "<h2>Maior ou igual que</h2>"
   ],
   "metadata": {}
  },
  {
   "cell_type": "code",
   "execution_count": 8,
   "source": [
    "2 >= 2 "
   ],
   "outputs": [
    {
     "output_type": "execute_result",
     "data": {
      "text/plain": [
       "True"
      ]
     },
     "metadata": {},
     "execution_count": 8
    }
   ],
   "metadata": {}
  },
  {
   "cell_type": "code",
   "execution_count": 9,
   "source": [
    "2 >= 1"
   ],
   "outputs": [
    {
     "output_type": "execute_result",
     "data": {
      "text/plain": [
       "True"
      ]
     },
     "metadata": {},
     "execution_count": 9
    }
   ],
   "metadata": {}
  },
  {
   "cell_type": "markdown",
   "source": [
    "<h2>Menor ou igual que</h2>"
   ],
   "metadata": {}
  },
  {
   "cell_type": "code",
   "execution_count": 11,
   "source": [
    "2 <= 2"
   ],
   "outputs": [
    {
     "output_type": "execute_result",
     "data": {
      "text/plain": [
       "True"
      ]
     },
     "metadata": {},
     "execution_count": 11
    }
   ],
   "metadata": {}
  },
  {
   "cell_type": "code",
   "execution_count": 12,
   "source": [
    "2 <= 4"
   ],
   "outputs": [
    {
     "output_type": "execute_result",
     "data": {
      "text/plain": [
       "True"
      ]
     },
     "metadata": {},
     "execution_count": 12
    }
   ],
   "metadata": {}
  },
  {
   "cell_type": "markdown",
   "source": [
    "<h1>Operadores de comparação em Cadeia</h1>\r\n",
    "\r\n",
    "<p>Uma caracteristica interessante do Python é a capacidade de encadear comparações multiplas para realizar um teste mais complexo. Você pode usar essesas comparações em cadeia como uma abreviatura para expressões booleanas maiores</p>\r\n",
    "\r\n",
    "Agora, aprendemos como encadear operadores de comparação e também apresentamos duas outras declarações importantes em Python <strong>and</strong> : <strong>or</strong>.\r\n",
    "\r\n",
    "vejamos alguns exemplos de uso em cadeia"
   ],
   "metadata": {}
  },
  {
   "cell_type": "code",
   "execution_count": 14,
   "source": [
    "1 < 2 < 3"
   ],
   "outputs": [
    {
     "output_type": "execute_result",
     "data": {
      "text/plain": [
       "True"
      ]
     },
     "metadata": {},
     "execution_count": 14
    }
   ],
   "metadata": {}
  },
  {
   "cell_type": "markdown",
   "source": [
    "<p>A declaração acima verifica se 1 era inferior a 2 e se 2 era inferior a 3. Poderimos ter escrito isso usando a instrução anda em Python </p>"
   ],
   "metadata": {}
  },
  {
   "cell_type": "code",
   "execution_count": 15,
   "source": [
    "1 < 2 and  2 < 3"
   ],
   "outputs": [
    {
     "output_type": "execute_result",
     "data": {
      "text/plain": [
       "True"
      ]
     },
     "metadata": {},
     "execution_count": 15
    }
   ],
   "metadata": {}
  },
  {
   "cell_type": "markdown",
   "source": [
    "O <strong>and</strong> é usado para garantir que as duas verificações tenham que ser verdadeiras para que a verificação total seja verdadeira. Vamos ver outro exemplo"
   ],
   "metadata": {}
  },
  {
   "cell_type": "code",
   "execution_count": 16,
   "source": [
    "1 < 3 > 2"
   ],
   "outputs": [
    {
     "output_type": "execute_result",
     "data": {
      "text/plain": [
       "True"
      ]
     },
     "metadata": {},
     "execution_count": 16
    }
   ],
   "metadata": {}
  },
  {
   "cell_type": "markdown",
   "source": [
    "<p>As verifições acima checam se 3 é maior do que outros números. Você pode usar o and para reescrevê-lo como:</p>"
   ],
   "metadata": {}
  },
  {
   "cell_type": "code",
   "execution_count": 17,
   "source": [
    "1 < 3 and 3 > 2"
   ],
   "outputs": [
    {
     "output_type": "execute_result",
     "data": {
      "text/plain": [
       "True"
      ]
     },
     "metadata": {},
     "execution_count": 17
    }
   ],
   "metadata": {}
  },
  {
   "cell_type": "markdown",
   "source": [
    "<p>observe como  a expressão retornou True porque com o operador <strong>or</strong>  precisamos apenas que um dos dois sejam verdadeiros. Outro exemplo:</p>"
   ],
   "metadata": {}
  },
  {
   "cell_type": "code",
   "execution_count": 18,
   "source": [
    "1 == 1  or 100 == 1"
   ],
   "outputs": [
    {
     "output_type": "execute_result",
     "data": {
      "text/plain": [
       "True"
      ]
     },
     "metadata": {},
     "execution_count": 18
    }
   ],
   "metadata": {}
  },
  {
   "cell_type": "markdown",
   "source": [
    "Ótimo! Agora você ja sabe como usar operadores de comparação em Python"
   ],
   "metadata": {}
  }
 ],
 "metadata": {
  "orig_nbformat": 4,
  "language_info": {
   "name": "python",
   "version": "3.8.8",
   "mimetype": "text/x-python",
   "codemirror_mode": {
    "name": "ipython",
    "version": 3
   },
   "pygments_lexer": "ipython3",
   "nbconvert_exporter": "python",
   "file_extension": ".py"
  },
  "kernelspec": {
   "name": "python3",
   "display_name": "Python 3.8.8 64-bit ('base': conda)"
  },
  "interpreter": {
   "hash": "513dc2e41d739bb2c947903f3c0bbf636d03aa53ab50e61c694a27481c81805e"
  }
 },
 "nbformat": 4,
 "nbformat_minor": 2
}