{
 "cells": [
  {
   "cell_type": "markdown",
   "source": [
    "<h1>Declaração aninhadas e Escopo</h1>\r\n",
    "\r\n",
    "<p>Agora que passamos a escrever nossas proprias funções, é importante estender como o python lida com os nomes das variaveis que você atribui. Quando você cria um nome de variaveil em python, o nome é armazenado em um namespace. Nomes de variaveis também têm escopo. O escopo determina a visibilidade desse nomes de variavel para outras partes do seu codigo</p>\r\n",
    "\r\n",
    "<p>Comece com uma rapida experiência de pesamentos, imagine o seguinte código.</p>"
   ],
   "metadata": {}
  },
  {
   "cell_type": "code",
   "execution_count": 1,
   "source": [
    "x = 25\r\n",
    "\r\n",
    "def printar():\r\n",
    "    x = 50\r\n",
    "    return x"
   ],
   "outputs": [],
   "metadata": {}
  },
  {
   "cell_type": "markdown",
   "source": [
    "<p>O que você imagina que printer() printara ? 25 ou 50? Qual è o resultado da impressão x ? 25 ou 50 ?</p>"
   ],
   "metadata": {}
  },
  {
   "cell_type": "code",
   "execution_count": 3,
   "source": [
    "print(x)"
   ],
   "outputs": [
    {
     "output_type": "stream",
     "name": "stdout",
     "text": [
      "25\n"
     ]
    }
   ],
   "metadata": {}
  },
  {
   "cell_type": "code",
   "execution_count": 4,
   "source": [
    "print(printar())"
   ],
   "outputs": [
    {
     "output_type": "stream",
     "name": "stdout",
     "text": [
      "50\n"
     ]
    }
   ],
   "metadata": {}
  },
  {
   "cell_type": "markdown",
   "source": [
    "<p>Interessante! Mas como o python Sabe qual x você esta se referindo no seu codigo? Este é o lugar onde a ideia de escopo vem. Python tem um conjunto de regras que segue para decidir quais variaveis(como x neste caso) você esta fazendo referencia em seu codigo. Vaos investigar as regras</p>\r\n",
    "\r\n",
    "<p>Essa ideia de escopo em seu codigo e muito importante entender para atribuir a chamar nomes de variaveis adequadamente</p>\r\n",
    "\r\n",
    "<ol>\r\n",
    "    <li>As atribuições de nomes criam ou alteram nomes locais por padrão</li>\r\n",
    "    <li>Existem 4 possiveis tipos de escopos. São eles</li>\r\n",
    "    <ul>\r\n",
    "        <li>Local</li>\r\n",
    "        <li>Enclosing functions</li>\r\n",
    "        <li>Global</li>\r\n",
    "        <li>Built-in</li>\r\n",
    "    </ul>\r\n",
    "    <li>Os nomes declarados como glabais e não locais mapeiam nomes atribuidos para preencher modulos e escopos de funções.</li>\r\n",
    "    <ul>\r\n",
    "        <li>A declaração #2 acima pode ser defina pela regra <strong>LEGB</strong></li>\r\n",
    "    </lu>\r\n",
    "</ol>\r\n",
    "<h2>Regra LEGB.</h2>\r\n",
    "<ul>\r\n",
    "    <li><strong>L:</strong> <strong>LEGB</strong>Local - Nomes atribuidos de qualquer forma dentro de uma função(def ou lambda) e declarações não globais nessa função</li>\r\n",
    "    <li><strong>E:</strong> Enclosing functions locals - Nomes no escopo local de todas e quaisquer funções escapsuladas(def ou lambda) de dentro para fora.</li>\r\n",
    "    <li><strong>G:</strong> Global(módulo) - Nomes atribuidos no nivel superior de uma arquivos de módulo, ou declarados como global em um def dentro do arquivo.</li>\r\n",
    "    <li>Build-in(Python) - Nomes pré-atribuidos no modulo: open, range, SyntaxError</li>\r\n",
    "</ul>\r\n",
    "<h2>Local</h2>\r\n",
    "\r\n"
   ],
   "metadata": {}
  },
  {
   "cell_type": "code",
   "execution_count": 6,
   "source": [
    "def local():\r\n",
    "    # x e local aqui\r\n",
    "    x = 10\r\n",
    "    print(x)\r\n",
    "\r\n",
    "local()"
   ],
   "outputs": [
    {
     "output_type": "stream",
     "name": "stdout",
     "text": [
      "10\n"
     ]
    }
   ],
   "metadata": {}
  }
 ],
 "metadata": {
  "orig_nbformat": 4,
  "language_info": {
   "name": "python",
   "version": "3.8.8",
   "mimetype": "text/x-python",
   "codemirror_mode": {
    "name": "ipython",
    "version": 3
   },
   "pygments_lexer": "ipython3",
   "nbconvert_exporter": "python",
   "file_extension": ".py"
  },
  "kernelspec": {
   "name": "python3",
   "display_name": "Python 3.8.8 64-bit ('base': conda)"
  },
  "interpreter": {
   "hash": "513dc2e41d739bb2c947903f3c0bbf636d03aa53ab50e61c694a27481c81805e"
  }
 },
 "nbformat": 4,
 "nbformat_minor": 2
}