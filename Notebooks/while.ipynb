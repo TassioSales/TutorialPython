{
 "cells": [
  {
   "cell_type": "markdown",
   "source": [
    "<h1>While</h1> \r\n",
    "\r\n",
    "<p>A instrução while em Python e uma da formas mais gerais de execultar interações. Uma instrução while execultara repetidamente uma única declaração ou grupo de instruções, desde que a condição seja verdadeira. a razão pela qual é chamado de \"loop\" é porque as instruções de código são rodadas repetidamente ate que a condição não seja cumprida.</p>\r\n",
    "\r\n",
    "O formato geral de um loop while é:\r\n",
    "\r\n",
    "<strong><p>While teste<br>\r\n",
    "        &emsp; if declaração<br>\r\n",
    "        &emsp; &emsp; print(declaração)</p>\r\n",
    "        &emsp; else:<br>\r\n",
    "        &emsp; &emsp; print(Não e isso que eu queria)    \r\n",
    "</strong>\r\n",
    "\r\n",
    "<p>Vamos ver alguns simples explos do while em ação</p>"
   ],
   "metadata": {}
  },
  {
   "cell_type": "code",
   "execution_count": 1,
   "source": [
    "x = 0\r\n",
    "\r\n",
    "while x < 10:\r\n",
    "    print(f\"x is currently : {x}\")\r\n",
    "    print(f\"x é atualmente: {x}\")\r\n",
    "    print('x is still less than 10, adding 1 to x')\r\n",
    "    print(\"x ainda é menor que 10, adicionando 1 a x\")\r\n",
    "    x += 1"
   ],
   "outputs": [
    {
     "output_type": "stream",
     "name": "stdout",
     "text": [
      "x is currently : 0\n",
      "x é atualmente: 0\n",
      "x is still less than 10, adding 1 to x\n",
      "x ainda é menor que 10, adicionando 1 a x\n",
      "x is currently : 1\n",
      "x é atualmente: 1\n",
      "x is still less than 10, adding 1 to x\n",
      "x ainda é menor que 10, adicionando 1 a x\n",
      "x is currently : 2\n",
      "x é atualmente: 2\n",
      "x is still less than 10, adding 1 to x\n",
      "x ainda é menor que 10, adicionando 1 a x\n",
      "x is currently : 3\n",
      "x é atualmente: 3\n",
      "x is still less than 10, adding 1 to x\n",
      "x ainda é menor que 10, adicionando 1 a x\n",
      "x is currently : 4\n",
      "x é atualmente: 4\n",
      "x is still less than 10, adding 1 to x\n",
      "x ainda é menor que 10, adicionando 1 a x\n",
      "x is currently : 5\n",
      "x é atualmente: 5\n",
      "x is still less than 10, adding 1 to x\n",
      "x ainda é menor que 10, adicionando 1 a x\n",
      "x is currently : 6\n",
      "x é atualmente: 6\n",
      "x is still less than 10, adding 1 to x\n",
      "x ainda é menor que 10, adicionando 1 a x\n",
      "x is currently : 7\n",
      "x é atualmente: 7\n",
      "x is still less than 10, adding 1 to x\n",
      "x ainda é menor que 10, adicionando 1 a x\n",
      "x is currently : 8\n",
      "x é atualmente: 8\n",
      "x is still less than 10, adding 1 to x\n",
      "x ainda é menor que 10, adicionando 1 a x\n",
      "x is currently : 9\n",
      "x é atualmente: 9\n",
      "x is still less than 10, adding 1 to x\n",
      "x ainda é menor que 10, adicionando 1 a x\n"
     ]
    }
   ],
   "metadata": {}
  },
  {
   "cell_type": "markdown",
   "source": [
    "<p>Observe quantas vezes as declaraões de impressão ocorreram e como o while continuo até a condição True deixasse de ser verdadeeira, que ocorreu quando o x passou a ser 10. É importante notar que, uma vez que isso ocorreu, o codigo parrou.Vamos ver como podemos adcionar uma outra afirmação:</p>"
   ],
   "metadata": {}
  },
  {
   "cell_type": "code",
   "execution_count": 2,
   "source": [
    "y = 0\r\n",
    "\r\n",
    "while y < 10:\r\n",
    "    print(f\"x is currently : {y}\")\r\n",
    "    print(f\"x é atualmente: {y}\")\r\n",
    "    print('x is still less than 10, adding 1 to x')\r\n",
    "    print(\"x ainda é menor que 10, adicionando 1 a x\")\r\n",
    "    y += 1\r\n",
    "else:\r\n",
    "    print(\"All done\")\r\n",
    "    print(\"Tudo feito\")\r\n"
   ],
   "outputs": [
    {
     "output_type": "stream",
     "name": "stdout",
     "text": [
      "x is currently : 0\n",
      "x é atualmente: 0\n",
      "x is still less than 10, adding 1 to x\n",
      "x ainda é menor que 10, adicionando 1 a x\n",
      "x is currently : 1\n",
      "x é atualmente: 1\n",
      "x is still less than 10, adding 1 to x\n",
      "x ainda é menor que 10, adicionando 1 a x\n",
      "x is currently : 2\n",
      "x é atualmente: 2\n",
      "x is still less than 10, adding 1 to x\n",
      "x ainda é menor que 10, adicionando 1 a x\n",
      "x is currently : 3\n",
      "x é atualmente: 3\n",
      "x is still less than 10, adding 1 to x\n",
      "x ainda é menor que 10, adicionando 1 a x\n",
      "x is currently : 4\n",
      "x é atualmente: 4\n",
      "x is still less than 10, adding 1 to x\n",
      "x ainda é menor que 10, adicionando 1 a x\n",
      "x is currently : 5\n",
      "x é atualmente: 5\n",
      "x is still less than 10, adding 1 to x\n",
      "x ainda é menor que 10, adicionando 1 a x\n",
      "x is currently : 6\n",
      "x é atualmente: 6\n",
      "x is still less than 10, adding 1 to x\n",
      "x ainda é menor que 10, adicionando 1 a x\n",
      "x is currently : 7\n",
      "x é atualmente: 7\n",
      "x is still less than 10, adding 1 to x\n",
      "x ainda é menor que 10, adicionando 1 a x\n",
      "x is currently : 8\n",
      "x é atualmente: 8\n",
      "x is still less than 10, adding 1 to x\n",
      "x ainda é menor que 10, adicionando 1 a x\n",
      "x is currently : 9\n",
      "x é atualmente: 9\n",
      "x is still less than 10, adding 1 to x\n",
      "x ainda é menor que 10, adicionando 1 a x\n",
      "All done\n",
      "Tudo feito\n"
     ]
    }
   ],
   "metadata": {}
  },
  {
   "cell_type": "markdown",
   "source": [
    "<h2>Breck, continue, pass</h2>\r\n",
    "\r\n",
    "Poremos usar as declarações breack, continue, passa em nossos loops para adicionasr funcionalidade adicionais para vários casos. As declarações são definidas po:\r\n",
    "\r\n",
    "<li>break:  para o loop</li>\r\n",
    "<li>continue: Vai para o proximo loop</li>\r\n",
    "<li>passa: Não faz nada</li>\r\n",
    "\r\n",
    "Pensando nas declarações break e continue, o formato geral do loop while se parece com isto:\r\n",
    "\r\n",
    "<p>\r\n",
    "    <strong>\r\n",
    "        while test:<br>\r\n",
    "        &emsp; codigo<br>\r\n",
    "        &emsp; if teste:<br>\r\n",
    "        &emsp;&emsp; break<br>\r\n",
    "        &emsp; else:<br>\r\n",
    "        &emsp;&emsp; continue\r\n",
    "    </strong>\r\n",
    "</p>\r\n",
    "\r\n",
    "<p>Vamos ver alguns exemplos</p>"
   ],
   "metadata": {}
  },
  {
   "cell_type": "code",
   "execution_count": 3,
   "source": [
    "x =  0\r\n",
    "\r\n",
    "while x < 10:\r\n",
    "    print(f\"x is currently: {x}\")\r\n",
    "    print(f\"x é atualmente: {x}\")\r\n",
    "    print(\"x is still less than 10, adding 1 to x\")\r\n",
    "    print(\"x ainda é menor que 10, adicionando 1 a x\")\r\n",
    "    x += 1\r\n",
    "    if x == 3:\r\n",
    "        print(\"x  == 3\")\r\n",
    "    else:\r\n",
    "        print(\"Continuing...\")\r\n",
    "        print(\"Continuando...\")"
   ],
   "outputs": [
    {
     "output_type": "stream",
     "name": "stdout",
     "text": [
      "x is currently: 0\n",
      "x é atualmente: 0\n",
      "x is still less than 10, adding 1 to x\n",
      "x ainda é menor que 10, adicionando 1 a x\n",
      "Continuing...\n",
      "Continuando...\n",
      "x is currently: 1\n",
      "x é atualmente: 1\n",
      "x is still less than 10, adding 1 to x\n",
      "x ainda é menor que 10, adicionando 1 a x\n",
      "Continuing...\n",
      "Continuando...\n",
      "x is currently: 2\n",
      "x é atualmente: 2\n",
      "x is still less than 10, adding 1 to x\n",
      "x ainda é menor que 10, adicionando 1 a x\n",
      "x  == 3\n",
      "x is currently: 3\n",
      "x é atualmente: 3\n",
      "x is still less than 10, adding 1 to x\n",
      "x ainda é menor que 10, adicionando 1 a x\n",
      "Continuing...\n",
      "Continuando...\n",
      "x is currently: 4\n",
      "x é atualmente: 4\n",
      "x is still less than 10, adding 1 to x\n",
      "x ainda é menor que 10, adicionando 1 a x\n",
      "Continuing...\n",
      "Continuando...\n",
      "x is currently: 5\n",
      "x é atualmente: 5\n",
      "x is still less than 10, adding 1 to x\n",
      "x ainda é menor que 10, adicionando 1 a x\n",
      "Continuing...\n",
      "Continuando...\n",
      "x is currently: 6\n",
      "x é atualmente: 6\n",
      "x is still less than 10, adding 1 to x\n",
      "x ainda é menor que 10, adicionando 1 a x\n",
      "Continuing...\n",
      "Continuando...\n",
      "x is currently: 7\n",
      "x é atualmente: 7\n",
      "x is still less than 10, adding 1 to x\n",
      "x ainda é menor que 10, adicionando 1 a x\n",
      "Continuing...\n",
      "Continuando...\n",
      "x is currently: 8\n",
      "x é atualmente: 8\n",
      "x is still less than 10, adding 1 to x\n",
      "x ainda é menor que 10, adicionando 1 a x\n",
      "Continuing...\n",
      "Continuando...\n",
      "x is currently: 9\n",
      "x é atualmente: 9\n",
      "x is still less than 10, adding 1 to x\n",
      "x ainda é menor que 10, adicionando 1 a x\n",
      "Continuing...\n",
      "Continuando...\n"
     ]
    }
   ],
   "metadata": {}
  },
  {
   "cell_type": "markdown",
   "source": [
    "<p>Observe como temos uma declaração impressa quando x == 3 e continuamos imprimindo enquanto continuamos atraves do while. Vamos fazer uma pausa uma vez que x == 3 e ver se o resultado faz sentido.</p>"
   ],
   "metadata": {}
  },
  {
   "cell_type": "code",
   "execution_count": 4,
   "source": [
    "x =  0\r\n",
    "\r\n",
    "while x < 10:\r\n",
    "    print(f\"x is currently: {x}\")\r\n",
    "    print(f\"x é atualmente: {x}\")\r\n",
    "    print(\"x is still less than 10, adding 1 to x\")\r\n",
    "    print(\"x ainda é menor que 10, adicionando 1 a x\")\r\n",
    "    x += 1\r\n",
    "    if x == 3:\r\n",
    "        print(\"Breaking beacuse x  == 3\")\r\n",
    "        print(\"Quebrando por causa x  == 3\")\r\n",
    "        break\r\n",
    "    else:\r\n",
    "        print(\"Continuing...\")\r\n",
    "        print(\"Continuando...\")"
   ],
   "outputs": [
    {
     "output_type": "stream",
     "name": "stdout",
     "text": [
      "x is currently: 0\n",
      "x é atualmente: 0\n",
      "x is still less than 10, adding 1 to x\n",
      "x ainda é menor que 10, adicionando 1 a x\n",
      "Continuing...\n",
      "Continuando...\n",
      "x is currently: 1\n",
      "x é atualmente: 1\n",
      "x is still less than 10, adding 1 to x\n",
      "x ainda é menor que 10, adicionando 1 a x\n",
      "Continuing...\n",
      "Continuando...\n",
      "x is currently: 2\n",
      "x é atualmente: 2\n",
      "x is still less than 10, adding 1 to x\n",
      "x ainda é menor que 10, adicionando 1 a x\n",
      "Breaking beacuse x  == 3\n",
      "Quebrando por causa x  == 3\n"
     ]
    }
   ],
   "metadata": {}
  },
  {
   "cell_type": "code",
   "execution_count": 6,
   "source": [
    "#ALERTA\r\n",
    "#NÃO RODE ESSE CODIGO\r\n",
    "while True:\r\n",
    "    print(\"Uh oh infinite Loop\")\r\n",
    "    print(\"Uh oh loop infinito\")"
   ],
   "outputs": [],
   "metadata": {}
  }
 ],
 "metadata": {
  "orig_nbformat": 4,
  "language_info": {
   "name": "python",
   "version": "3.8.8",
   "mimetype": "text/x-python",
   "codemirror_mode": {
    "name": "ipython",
    "version": 3
   },
   "pygments_lexer": "ipython3",
   "nbconvert_exporter": "python",
   "file_extension": ".py"
  },
  "kernelspec": {
   "name": "python3",
   "display_name": "Python 3.8.8 64-bit ('base': conda)"
  },
  "interpreter": {
   "hash": "513dc2e41d739bb2c947903f3c0bbf636d03aa53ab50e61c694a27481c81805e"
  }
 },
 "nbformat": 4,
 "nbformat_minor": 2
}