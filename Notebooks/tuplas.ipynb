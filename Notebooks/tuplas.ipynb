{
 "cells": [
  {
   "cell_type": "markdown",
   "source": [
    ".Voê <h1>Tuplas</h1>\r\n",
    "\r\n",
    "<p>Em python, as tuplas são muito semelhantes às listas, no entanto ao contrario das listas, elas são imutáveis o que significa que elas não podem ser alteradas.Você usaria tuplas para apresentar coisas que nao deveriam se alteradas, como dias da semana ou datas em um calendario</p>\r\n",
    "\r\n",
    "<h2>Nesta seção. obteremos uma breve visão geral do seguinte</h2>\r\n",
    "\r\n",
    "<ul>\r\n",
    "    <li>Contruindo Tuplas</li>\r\n",
    "    <li>Metodos basicos das tuplas</li>\r\n",
    "    <li>Imutabilidade </li>\r\n",
    "    <li>Quando usar tuplas</li>\r\n",
    "</ul>\r\n",
    "\r\n",
    "\r\n",
    "Você terá uma intuiçao de usar tuplas com base no que você sabe sobre listas. Nós podemos trata-las de forma muito semelhante, com a maior distinção e que as tuplas são imutaveis\r\n"
   ],
   "metadata": {}
  },
  {
   "cell_type": "markdown",
   "source": [
    "<h2>Construindo Tuplas</h2>\r\n",
    "\r\n",
    "<p>A Construção de tuplas usa () com elemento separados por virgula. Por exemplo</p>"
   ],
   "metadata": {}
  },
  {
   "cell_type": "code",
   "execution_count": 4,
   "source": [
    "#Pode-se criar uma tupla com multiplos elementos\r\n",
    "t = (1,2,3)"
   ],
   "outputs": [],
   "metadata": {}
  },
  {
   "cell_type": "code",
   "execution_count": 5,
   "source": [
    "#O metodo len() funciona tambem para as tuplas\r\n",
    "len(t)"
   ],
   "outputs": [
    {
     "output_type": "execute_result",
     "data": {
      "text/plain": [
       "3"
      ]
     },
     "metadata": {},
     "execution_count": 5
    }
   ],
   "metadata": {}
  },
  {
   "cell_type": "code",
   "execution_count": 7,
   "source": [
    "#Voce tambem pode variar os tipos de dados \r\n",
    "t = (\"um\", 2)\r\n",
    "#visualizando\r\n",
    "t"
   ],
   "outputs": [
    {
     "output_type": "execute_result",
     "data": {
      "text/plain": [
       "('um', 2)"
      ]
     },
     "metadata": {},
     "execution_count": 7
    }
   ],
   "metadata": {}
  },
  {
   "cell_type": "code",
   "execution_count": 9,
   "source": [
    "#E a indexação funciona da mesma que nas listas\r\n",
    "t[0]"
   ],
   "outputs": [
    {
     "output_type": "execute_result",
     "data": {
      "text/plain": [
       "'um'"
      ]
     },
     "metadata": {},
     "execution_count": 9
    }
   ],
   "metadata": {}
  },
  {
   "cell_type": "markdown",
   "source": [
    "<h2>Métodos basicos das tuplas</h2>\r\n",
    "\r\n",
    "<p>As tuplas têm métodos internos, mas não tantas quanto nas listas. Vamos ver alguns</p>"
   ],
   "metadata": {}
  },
  {
   "cell_type": "code",
   "execution_count": 10,
   "source": [
    "#Use. index com o valor de parametro para retorna o indice do mesmo\r\n",
    "\r\n",
    "t.index(\"um\")"
   ],
   "outputs": [
    {
     "output_type": "execute_result",
     "data": {
      "text/plain": [
       "0"
      ]
     },
     "metadata": {},
     "execution_count": 10
    }
   ],
   "metadata": {}
  },
  {
   "cell_type": "code",
   "execution_count": 11,
   "source": [
    "#Use .count() para saber quantas vezes determinado elemento apareceu na tupla\r\n",
    "t.count(\"um\")"
   ],
   "outputs": [
    {
     "output_type": "execute_result",
     "data": {
      "text/plain": [
       "1"
      ]
     },
     "metadata": {},
     "execution_count": 11
    }
   ],
   "metadata": {}
  },
  {
   "cell_type": "code",
   "execution_count": 12,
   "source": [
    "# Corte de dados também...\r\n",
    "t[-1]"
   ],
   "outputs": [
    {
     "output_type": "execute_result",
     "data": {
      "text/plain": [
       "2"
      ]
     },
     "metadata": {},
     "execution_count": 12
    }
   ],
   "metadata": {}
  },
  {
   "cell_type": "markdown",
   "source": [
    "<h2>Imutabilidade </h2>\r\n",
    "\r\n",
    "<p>como mencionado ateriormoent, as tuplas são imutaveis</p>"
   ],
   "metadata": {}
  },
  {
   "cell_type": "code",
   "execution_count": 13,
   "source": [
    "t[0] = \"change\""
   ],
   "outputs": [
    {
     "output_type": "error",
     "ename": "TypeError",
     "evalue": "'tuple' object does not support item assignment",
     "traceback": [
      "\u001b[1;31m---------------------------------------------------------------------------\u001b[0m",
      "\u001b[1;31mTypeError\u001b[0m                                 Traceback (most recent call last)",
      "\u001b[1;32mC:\\Users\\TSSIOS~1\\AppData\\Local\\Temp/ipykernel_8392/1851673315.py\u001b[0m in \u001b[0;36m<module>\u001b[1;34m\u001b[0m\n\u001b[1;32m----> 1\u001b[1;33m \u001b[0mt\u001b[0m\u001b[1;33m[\u001b[0m\u001b[1;36m0\u001b[0m\u001b[1;33m]\u001b[0m \u001b[1;33m=\u001b[0m \u001b[1;34m\"change\"\u001b[0m\u001b[1;33m\u001b[0m\u001b[1;33m\u001b[0m\u001b[0m\n\u001b[0m",
      "\u001b[1;31mTypeError\u001b[0m: 'tuple' object does not support item assignment"
     ]
    }
   ],
   "metadata": {}
  },
  {
   "cell_type": "markdown",
   "source": [
    "<p>Por causa dessa imutabilidade, as tuplas não podem crescer, Uma vez que uma tupla é feita, não podemos adiconar a ela</p>"
   ],
   "metadata": {}
  },
  {
   "cell_type": "code",
   "execution_count": 15,
   "source": [
    "t.append(\"nope\")"
   ],
   "outputs": [
    {
     "output_type": "error",
     "ename": "AttributeError",
     "evalue": "'tuple' object has no attribute 'append'",
     "traceback": [
      "\u001b[1;31m---------------------------------------------------------------------------\u001b[0m",
      "\u001b[1;31mAttributeError\u001b[0m                            Traceback (most recent call last)",
      "\u001b[1;32mC:\\Users\\TSSIOS~1\\AppData\\Local\\Temp/ipykernel_8392/373347750.py\u001b[0m in \u001b[0;36m<module>\u001b[1;34m\u001b[0m\n\u001b[1;32m----> 1\u001b[1;33m \u001b[0mt\u001b[0m\u001b[1;33m.\u001b[0m\u001b[0mappend\u001b[0m\u001b[1;33m(\u001b[0m\u001b[1;34m\"nope\"\u001b[0m\u001b[1;33m)\u001b[0m\u001b[1;33m\u001b[0m\u001b[1;33m\u001b[0m\u001b[0m\n\u001b[0m",
      "\u001b[1;31mAttributeError\u001b[0m: 'tuple' object has no attribute 'append'"
     ]
    }
   ],
   "metadata": {}
  },
  {
   "cell_type": "markdown",
   "source": [
    "<h2>Quando usar tuplas</h2>\r\n",
    "\r\n",
    "<p>Você pode estar se perguntando: \"Por que se preocupar em usar tuplas quando eles tem menos metodos disponiveis ?\" Para ser honesto, as tuplas não são usadas tantas vezes como listas na programçao, mas são usadas quando a imutabilidade e necessaria, Se no seu programa você esta passando por um objeto e precisa ter certeza de que ele não seja alterado, então a tupla se tornará sua soluçãao. Ele fornece uma fonte conveniente de integridade de dados.</p>\r\n",
    "\r\n",
    "<p>Agora você pode criar e usar tuplas em sua programação, bem como ter uma compreensão da sua imutabilidade</p>"
   ],
   "metadata": {}
  }
 ],
 "metadata": {
  "orig_nbformat": 4,
  "language_info": {
   "name": "python",
   "version": "3.9.6",
   "mimetype": "text/x-python",
   "codemirror_mode": {
    "name": "ipython",
    "version": 3
   },
   "pygments_lexer": "ipython3",
   "nbconvert_exporter": "python",
   "file_extension": ".py"
  },
  "kernelspec": {
   "name": "python3",
   "display_name": "Python 3.9.6 64-bit (system)"
  },
  "interpreter": {
   "hash": "1202e818cab8df35c21d4988ef14ff76590a458d6bab584fe1b1c3f6f0c17a35"
  }
 },
 "nbformat": 4,
 "nbformat_minor": 2
}