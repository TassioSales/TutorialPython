{
 "cells": [
  {
   "cell_type": "markdown",
   "id": "55ea8611",
   "metadata": {},
   "source": [
    "<h1>Números em Python</h1>\n",
    "<p>Neste arquivo iremos aprender sobre números em Python e sobre como usá-los. E também faremos uma breve introdução à variaveis</p>\n",
    "\n",
    "<h2>Tipos númericos</h2>\n",
    "<p>Python tem vários \"tipos\" de números (literais numéricos). Nós nos concentraremos principalmente em números inteiros e números de ponto flutuante.\n",
    "Inteiros são apenas números inteiros, positivos ou negativos. Por exemplo: 2 e -2 são exemplos de números inteiros.\n",
    "Os números de pontos flutuantes em Python são notáveis porque eles têm um ponto decimal neles, ou usam uma exponencial (e) para definir o número. Por exemplo, 2.0 e -2.1 são exemplos de números de ponto flutuante. 4E2 (4 vezes 10 para o poder de 2) também é um exemplo de um número de ponto flutuante em Python.Ao longo deste curso, trabalharemos principalmente com números inteiros ou tipos simples de números de flutuação.Aqui está uma tabela dos dois tipos principais que passaremos a maior parte do tempo trabalhando com alguns exemplos:</p>"
   ]
  },
  {
   "cell_type": "markdown",
   "id": "1d51b778",
   "metadata": {},
   "source": [
    "<table border = \"1\">\n",
    "    <tr>\n",
    "        <td>Exemplo</td>\n",
    "        <td>Tipo</td>\n",
    "    </tr>\n",
    "    <tr>\n",
    "        <td>1,2, -5, 1000</td>\n",
    "        <td>Inteiros</td>\n",
    "    </tr>\n",
    "    <tr>\n",
    "        <td>1.2, -0.5, 2e2, 3E2</td>\n",
    "        <td>Numero Ponto-flutuante</td>\n",
    "    </tr>\n",
    "</table>"
   ]
  },
  {
   "cell_type": "markdown",
   "id": "f1abb128",
   "metadata": {},
   "source": [
    "<p>Agora vamos começar com alguma aritmética básica</p>"
   ]
  },
  {
   "cell_type": "markdown",
   "id": "79318cc2",
   "metadata": {},
   "source": [
    "<h5>SOMA</h5>"
   ]
  },
  {
   "cell_type": "code",
   "execution_count": 1,
   "id": "4ad924b7",
   "metadata": {},
   "outputs": [
    {
     "data": {
      "text/plain": [
       "3"
      ]
     },
     "execution_count": 1,
     "metadata": {},
     "output_type": "execute_result"
    }
   ],
   "source": [
    "2 + 1"
   ]
  },
  {
   "cell_type": "markdown",
   "id": "52e5b1e4",
   "metadata": {},
   "source": [
    "<h5>SUBTRACÃO</h5>"
   ]
  },
  {
   "cell_type": "code",
   "execution_count": 2,
   "id": "5c1be822",
   "metadata": {},
   "outputs": [
    {
     "data": {
      "text/plain": [
       "1"
      ]
     },
     "execution_count": 2,
     "metadata": {},
     "output_type": "execute_result"
    }
   ],
   "source": [
    "2 - 1"
   ]
  },
  {
   "cell_type": "markdown",
   "id": "6b4b0954",
   "metadata": {},
   "source": [
    "<h5>MULTIPLICAÇÃO</h5>"
   ]
  },
  {
   "cell_type": "code",
   "execution_count": 3,
   "id": "796e32ae",
   "metadata": {},
   "outputs": [
    {
     "data": {
      "text/plain": [
       "4"
      ]
     },
     "execution_count": 3,
     "metadata": {},
     "output_type": "execute_result"
    }
   ],
   "source": [
    "2 * 2"
   ]
  },
  {
   "cell_type": "markdown",
   "id": "fecbbcc6",
   "metadata": {},
   "source": [
    "<h5>DIVISÃO</h5> <p>Divisões sempre retornam um float</p>"
   ]
  },
  {
   "cell_type": "code",
   "execution_count": 4,
   "id": "1212f207",
   "metadata": {},
   "outputs": [
    {
     "data": {
      "text/plain": [
       "1.5"
      ]
     },
     "execution_count": 4,
     "metadata": {},
     "output_type": "execute_result"
    }
   ],
   "source": [
    "3 / 2"
   ]
  },
  {
   "cell_type": "markdown",
   "id": "f48e1eb8",
   "metadata": {},
   "source": [
    "<p>Especificando um dos números como um float</p>"
   ]
  },
  {
   "cell_type": "code",
   "execution_count": 5,
   "id": "1c426485",
   "metadata": {},
   "outputs": [
    {
     "data": {
      "text/plain": [
       "1.5"
      ]
     },
     "execution_count": 5,
     "metadata": {},
     "output_type": "execute_result"
    }
   ],
   "source": [
    "3.0 / 2"
   ]
  },
  {
   "cell_type": "markdown",
   "id": "a6bc97d7",
   "metadata": {},
   "source": [
    "<p>Funciona para qualquer número</p>"
   ]
  },
  {
   "cell_type": "code",
   "execution_count": 6,
   "id": "8fd41ab6",
   "metadata": {},
   "outputs": [
    {
     "data": {
      "text/plain": [
       "1.5"
      ]
     },
     "execution_count": 6,
     "metadata": {},
     "output_type": "execute_result"
    }
   ],
   "source": [
    "3 / 2.0"
   ]
  },
  {
   "cell_type": "markdown",
   "id": "de38291f",
   "metadata": {},
   "source": [
    "<h5>Quadrado</h5>"
   ]
  },
  {
   "cell_type": "code",
   "execution_count": 7,
   "id": "f68bc75c",
   "metadata": {},
   "outputs": [
    {
     "data": {
      "text/plain": [
       "9"
      ]
     },
     "execution_count": 7,
     "metadata": {},
     "output_type": "execute_result"
    }
   ],
   "source": [
    "3 ** 2"
   ]
  },
  {
   "cell_type": "markdown",
   "id": "0d11f154",
   "metadata": {},
   "source": [
    "<h5>Raiz quadrada</h5>"
   ]
  },
  {
   "cell_type": "code",
   "execution_count": 8,
   "id": "9b70d017",
   "metadata": {},
   "outputs": [
    {
     "data": {
      "text/plain": [
       "2.0"
      ]
     },
     "execution_count": 8,
     "metadata": {},
     "output_type": "execute_result"
    }
   ],
   "source": [
    "4 ** 0.5"
   ]
  },
  {
   "cell_type": "markdown",
   "id": "7b53e8ed",
   "metadata": {},
   "source": [
    "<h5>Modulo do Resto da divisão</h5>"
   ]
  },
  {
   "cell_type": "code",
   "execution_count": 9,
   "id": "a16bba81",
   "metadata": {},
   "outputs": [
    {
     "data": {
      "text/plain": [
       "1"
      ]
     },
     "execution_count": 9,
     "metadata": {},
     "output_type": "execute_result"
    }
   ],
   "source": [
    "10 % 3"
   ]
  },
  {
   "cell_type": "markdown",
   "id": "848580e0",
   "metadata": {},
   "source": [
    "<h5>A ordem de procedencia das operações</h5>"
   ]
  },
  {
   "cell_type": "markdown",
   "id": "7642a979",
   "metadata": {},
   "source": [
    "<h1>Ordem das operações</h1>\n",
    "\n",
    "<p>Quando uma expressão contém mais de um operador, a ordem da avaliação depende da ordem das operações. Para operadores matemáticos, o Python segue a convenção matemática. O acrônimo PEMDAS pode ser útil para lembrar das regras:</p>\n",
    "\n",
    "<p>Os Parênteses têm a precedência mais alta e podem ser usados para forçar a avaliação de uma expressão na ordem que você quiser. Como as expressões em parênteses são avaliadas primeiro, 2 * (3-1) é 4, e (1+1)**(5-2) é 8. Também é possível usar parênteses para facilitar a leitura de uma expressão, como no caso de (minute * 100) / 60, mesmo se o resultado não for alterado.</p>\n",
    "\n",
    "<p>A Exponenciação tem a próxima precedência mais alta, então 1 + 2**3 é 9, não 27, e 2 * 3**2 é 18, não 36.</p>\n",
    "\n",
    "<p>A Multiplicação e a Divisão têm precedência mais alta que a Adição e a Subtração. Assim, 2 * 3 - 1 é 5, não 4, e 6 + 4 / 2 é 8, não 5.</p>\n",
    "\n",
    "<p>Os operadores com a mesma precedência são avaliados da esquerda para a direita (exceto na exponenciação). Assim, na expressão degrees / 2 * pi, a divisão acontece primeiro e o resultado é multiplicado por pi. Para dividir por 2π, você pode usar parênteses ou escrever degrees / 2 / pi.</p>\n",
    "\n",
    "<p>Eu não fico sempre tentando lembrar da precedência de operadores. Se a expressão não estiver clara à primeira vista, uso parênteses para fazer isso.</p>"
   ]
  },
  {
   "cell_type": "code",
   "execution_count": 10,
   "id": "7da9f5b3",
   "metadata": {},
   "outputs": [
    {
     "data": {
      "text/plain": [
       "105"
      ]
     },
     "execution_count": 10,
     "metadata": {},
     "output_type": "execute_result"
    }
   ],
   "source": [
    "2 + 10 * 10 + 3"
   ]
  },
  {
   "cell_type": "code",
   "execution_count": 11,
   "id": "624188eb",
   "metadata": {},
   "outputs": [
    {
     "data": {
      "text/plain": [
       "156"
      ]
     },
     "execution_count": 11,
     "metadata": {},
     "output_type": "execute_result"
    }
   ],
   "source": [
    "(2+10) * (10+3)"
   ]
  },
  {
   "cell_type": "markdown",
   "id": "ceb2e05a",
   "metadata": {},
   "source": [
    "<h1>Atribuições de variáveis</h1>"
   ]
  },
  {
   "cell_type": "markdown",
   "id": "55fff596",
   "metadata": {},
   "source": [
    "<p>Agora que vimos como usar números em Python como calculadora, vejamos como podemos atribuir nomes e criar variáveis.\n",
    "Usamos um único sinal de igual para atribuir rótulos às variáveis. Vejamos alguns exemplos de como podemos fazer isso.</p>"
   ]
  },
  {
   "cell_type": "markdown",
   "id": "8fc4f583",
   "metadata": {},
   "source": [
    "<h4>Vamos criar um objeto chamado \"a\" e atribuir o número 5</h4>"
   ]
  },
  {
   "cell_type": "code",
   "execution_count": 13,
   "id": "ec4c79f2",
   "metadata": {},
   "outputs": [],
   "source": [
    "a = 5"
   ]
  },
  {
   "cell_type": "markdown",
   "id": "6cdbb684",
   "metadata": {},
   "source": [
    "<p>Agora, se eu chamar a no meu script Python, o Python tratará isso como o número 5.</p>"
   ]
  },
  {
   "cell_type": "markdown",
   "id": "54808d54",
   "metadata": {},
   "source": [
    "<h4>Somando objetos</h4>"
   ]
  },
  {
   "cell_type": "code",
   "execution_count": 14,
   "id": "9a9da86f",
   "metadata": {},
   "outputs": [
    {
     "data": {
      "text/plain": [
       "10"
      ]
     },
     "execution_count": 14,
     "metadata": {},
     "output_type": "execute_result"
    }
   ],
   "source": [
    "a + a"
   ]
  },
  {
   "cell_type": "markdown",
   "id": "eb4c6c9c",
   "metadata": {},
   "source": [
    "<p>O que acontece na redefinição? Python nos deixa escrever sobre os valores anteriores?</p>"
   ]
  },
  {
   "cell_type": "markdown",
   "id": "a4d9df48",
   "metadata": {},
   "source": [
    "<h5>Redefinição</h5>"
   ]
  },
  {
   "cell_type": "code",
   "execution_count": 19,
   "id": "bc5a5a35",
   "metadata": {},
   "outputs": [],
   "source": [
    "a = 20"
   ]
  },
  {
   "cell_type": "code",
   "execution_count": 20,
   "id": "923cc20c",
   "metadata": {},
   "outputs": [
    {
     "data": {
      "text/plain": [
       "20"
      ]
     },
     "execution_count": 20,
     "metadata": {},
     "output_type": "execute_result"
    }
   ],
   "source": [
    "#checar\n",
    "a"
   ]
  },
  {
   "cell_type": "markdown",
   "id": "25f1a9b0",
   "metadata": {},
   "source": [
    "<h5>Usa a para redefinir a</h5>"
   ]
  },
  {
   "cell_type": "code",
   "execution_count": 21,
   "id": "4fb31231",
   "metadata": {},
   "outputs": [],
   "source": [
    "a = a + a"
   ]
  },
  {
   "cell_type": "code",
   "execution_count": 22,
   "id": "5b001f2d",
   "metadata": {
    "scrolled": true
   },
   "outputs": [
    {
     "data": {
      "text/plain": [
       "40"
      ]
     },
     "execution_count": 22,
     "metadata": {},
     "output_type": "execute_result"
    }
   ],
   "source": [
    "#checar\n",
    "a"
   ]
  },
  {
   "cell_type": "markdown",
   "id": "ee187292",
   "metadata": {},
   "source": [
    "<p>Os nomes que você usa ao criar esses rótulos precisam seguir algumas regras</p>\n",
    "<lo>\n",
    "    <li>Os nomes não podem começar com um número</li>\n",
    "    <li>Não pode haver espaços no nome. Use_ em vez disso.</li>\n",
    "    <li>Não e possivel usar nenhum desses símboloes:\",<>/?|()!@#$%^&*^~-+</li>\n",
    "    <li>É considerada a melhor pratica (PEP8) que nomes são minúsculos</li>\n",
    "</lo>\n",
    "<p>Usar nomes especificos para as variaveis pode ser uma maneira muito útil de acompanhar diferentes variáveis em Python. Por exemplo</p>"
   ]
  },
  {
   "cell_type": "code",
   "execution_count": 25,
   "id": "8c72711c",
   "metadata": {},
   "outputs": [
    {
     "data": {
      "text/plain": [
       "5.0"
      ]
     },
     "execution_count": 25,
     "metadata": {},
     "output_type": "execute_result"
    }
   ],
   "source": [
    "distancia = 100\n",
    "\n",
    "tempo = 20\n",
    "\n",
    "velocidade =  distancia / tempo\n",
    "\n",
    "#mostra a velocidade\n",
    "velocidade"
   ]
  },
  {
   "cell_type": "markdown",
   "id": "a1fe4d24",
   "metadata": {},
   "source": [
    "<p>Use nomes de objetos para mantes uma melhor relação com o que está acontecendo no seu codigo!</p>\n",
    "<strong>Então, o que aprendemos?</strong>\n",
    "<p>Aprendemos alguns dos conceitos basicos dos números em Python. Tambem aprendemos a fazer aritiméca e usar python como uma calculadora basica. Em seguida o envolvemos com o aprendizado sobre a atribuição de va</p>"
   ]
  }
 ],
 "metadata": {
  "kernelspec": {
   "display_name": "Python 3",
   "language": "python",
   "name": "python3"
  },
  "language_info": {
   "codemirror_mode": {
    "name": "ipython",
    "version": 3
   },
   "file_extension": ".py",
   "mimetype": "text/x-python",
   "name": "python",
   "nbconvert_exporter": "python",
   "pygments_lexer": "ipython3",
   "version": "3.8.8"
  }
 },
 "nbformat": 4,
 "nbformat_minor": 5
}
