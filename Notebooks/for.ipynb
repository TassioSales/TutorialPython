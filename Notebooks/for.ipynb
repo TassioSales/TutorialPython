{
 "cells": [
  {
   "cell_type": "markdown",
   "source": [
    "<h1>For</h1>\r\n",
    "\r\n",
    "<p>Um loop <strong>for</strong> atua como um iterador em Python, ele passapor itens que estão em uma sequencia ou qualquer outro item iteraveis. Os objetos que aprendemos até agora que podemos iterar incluem strings, listas, tuplas e ate iteraveis embutidos em dicionarios, como chaves ou valores.</p>\r\n",
    "\r\n",
    "Aqui está o formato gerak para un loop for em python:\r\n",
    "\r\n",
    "<strong><p>for item in objeto:<br>\r\n",
    "        &emsp; print(item)<br></p>\r\n",
    "</strong>\r\n",
    "\r\n",
    "<p>O nome da variável usado para o item fica a seu critério, você pode escolher o que quiser. Então use seu melhor julgamento para escolher um nome que faça sentido e que você poderá entender ao revisar seu código. Este nome do item pode então ser referenciado dentro de seu loop, por exemplo, se você quisesse usar instruções if para executar verificações.</p>\r\n",
    "\r\n",
    "<p>Vamos seguir em frente e trabalhar com vários exemplos de for loops usando uma variedade de tipos de objetos de dados. Vamos começar com um exemplo simples e adicionar mais complexidade mais além.</p>\r\n",
    "\r\n",
    "<h2>Exemplo 1</h2>\r\n",
    "\r\n",
    "<p>iterando atraves de uma lista</p>\r\n",
    "\r\n"
   ],
   "metadata": {}
  },
  {
   "cell_type": "code",
   "execution_count": 9,
   "source": [
    "lista =  [1,2,3,4,5,6,7,8,9,10]"
   ],
   "outputs": [],
   "metadata": {}
  },
  {
   "cell_type": "code",
   "execution_count": 2,
   "source": [
    "for num in l:\r\n",
    "    print(num)"
   ],
   "outputs": [
    {
     "output_type": "stream",
     "name": "stdout",
     "text": [
      "1\n",
      "2\n",
      "3\n",
      "4\n",
      "5\n",
      "6\n",
      "7\n",
      "8\n",
      "9\n",
      "10\n"
     ]
    }
   ],
   "metadata": {}
  },
  {
   "cell_type": "markdown",
   "source": [
    "<p>Otimo espero que isso tenha feito sentido. Agora, vamos adicionar uma intrução if para verificar se há numeros pares. Vamos primeiro aprsentar um novo conceito aqui- O modulo:</p>\r\n",
    "\r\n",
    "\r\n",
    "<h2>Modulo</h2>\r\n",
    "\r\n",
    "<p>O módulo nos permite obter o restante em uma divisão e usa o símbolo %. Por exemplo:</p>\r\n"
   ],
   "metadata": {}
  },
  {
   "cell_type": "code",
   "execution_count": 3,
   "source": [
    "#Isso faz sentido, pois 17 dividido por 5 é 3 e sobra 2. Vamos ver alguns exemplos mais rápidos:\r\n",
    "print(17 % 5)\r\n",
    "# 3, sobra 1\r\n",
    "print(10 % 3)\r\n",
    "# 2, sobra 4\r\n",
    "print(18 % 4)\r\n",
    "# 2, sem sobras\r\n",
    "print(4 % 2)"
   ],
   "outputs": [
    {
     "output_type": "stream",
     "name": "stdout",
     "text": [
      "2\n",
      "1\n",
      "2\n",
      "0\n"
     ]
    }
   ],
   "metadata": {}
  },
  {
   "cell_type": "markdown",
   "source": [
    "<p>Vamor imprimir apenar os numeros pares dessa lista</p>"
   ],
   "metadata": {}
  },
  {
   "cell_type": "code",
   "execution_count": 10,
   "source": [
    "for num in lista:\r\n",
    "    if num % 2 == 0:\r\n",
    "        print(num)"
   ],
   "outputs": [
    {
     "output_type": "stream",
     "name": "stdout",
     "text": [
      "2\n",
      "4\n",
      "6\n",
      "8\n",
      "10\n"
     ]
    }
   ],
   "metadata": {}
  },
  {
   "cell_type": "markdown",
   "source": [
    "Nos também poderiamos usar o else:"
   ],
   "metadata": {}
  },
  {
   "cell_type": "code",
   "execution_count": 11,
   "source": [
    "for num in l:\r\n",
    "    if num % 2 == 0:\r\n",
    "        print(f\"O numero {num} e par\")\r\n",
    "    else:\r\n",
    "        print(f\"O numero {num} e impar \")"
   ],
   "outputs": [
    {
     "output_type": "stream",
     "name": "stdout",
     "text": [
      "O numero 1 e impar \n",
      "O numero 2 e par\n",
      "O numero 3 e impar \n",
      "O numero 4 e par\n",
      "O numero 5 e impar \n",
      "O numero 6 e par\n",
      "O numero 7 e impar \n",
      "O numero 8 e par\n",
      "O numero 9 e impar \n",
      "O numero 10 e par\n"
     ]
    }
   ],
   "metadata": {}
  },
  {
   "cell_type": "markdown",
   "source": [
    "<p>Observe que se um número é totalmente divisível sem restante, o resultado do módulo é 0. Podemos usar isso para testar números pares, pois se um número nódulo 2 for igual a 0, isso significa que é um número par!</p>\r\n",
    "\r\n",
    "<h2>Exemplo 3</h2>\r\n",
    "\r\n",
    "<p>Outra idéia comum durante um for é manter algum tipo de contagem durante os vários loops. Por exemplo, vamos criar um loop for que resume a lista:</p>\r\n"
   ],
   "metadata": {}
  },
  {
   "cell_type": "code",
   "execution_count": 4,
   "source": [
    "list_sum = 0\r\n",
    "\r\n",
    "for num in l:\r\n",
    "    list_sum = list_sum + num\r\n",
    "print(list_sum)"
   ],
   "outputs": [
    {
     "output_type": "stream",
     "name": "stdout",
     "text": [
      "55\n"
     ]
    }
   ],
   "metadata": {}
  },
  {
   "cell_type": "markdown",
   "source": [
    "<p>Ótimo! Leia sobre a célula acima e certifique-se de entender completamente o que está acontecendo. Também poderíamos ter implementado um += para a adição. Por exemplo:</p>"
   ],
   "metadata": {}
  },
  {
   "cell_type": "code",
   "execution_count": 6,
   "source": [
    "list_sum_2 = 0\r\n",
    "\r\n",
    "for num in l:\r\n",
    "    list_sum_2 += num\r\n",
    "print(list_sum_2)\r\n",
    "    "
   ],
   "outputs": [
    {
     "output_type": "stream",
     "name": "stdout",
     "text": [
      "55\n"
     ]
    }
   ],
   "metadata": {}
  },
  {
   "cell_type": "markdown",
   "source": [
    "<h2>Exemplo 4</h2>\r\n",
    "<p>Nós usamos para loops com listas, e as strings? Lembre-se de que as strings são uma seqüência, então, quando iteramos através delas, estaremos acessando cada item nessa seqüência de caracteres.</p>\r\n"
   ],
   "metadata": {}
  },
  {
   "cell_type": "code",
   "execution_count": 7,
   "source": [
    "for letra in \"Isso e uma string\":\r\n",
    "    print(letra)"
   ],
   "outputs": [
    {
     "output_type": "stream",
     "name": "stdout",
     "text": [
      "I\n",
      "s\n",
      "s\n",
      "o\n",
      " \n",
      "e\n",
      " \n",
      "u\n",
      "m\n",
      "a\n",
      " \n",
      "s\n",
      "t\n",
      "r\n",
      "i\n",
      "n\n",
      "g\n"
     ]
    }
   ],
   "metadata": {}
  },
  {
   "cell_type": "markdown",
   "source": [
    "<p>E com tuplas ?</p>"
   ],
   "metadata": {}
  },
  {
   "cell_type": "code",
   "execution_count": 13,
   "source": [
    "tup = (1,2,3,4,5)\r\n",
    "\r\n",
    "for t in tup:\r\n",
    "    print(t)"
   ],
   "outputs": [
    {
     "output_type": "stream",
     "name": "stdout",
     "text": [
      "1\n",
      "2\n",
      "3\n",
      "4\n",
      "5\n"
     ]
    }
   ],
   "metadata": {}
  },
  {
   "cell_type": "markdown",
   "source": [
    "<p>As  Tuplas têm uma qualidade especial quando se trata de fors . Se você esta iterando através de uma sequencia que contem tuplas, o item pode realmente ser a própria tupla, este é um exemplo de desembalagem de tuplas. Durante o for, estaremos desembalando a tupla dentro de uma sequência e podemos acessar os itens individuais dentro dessa tupla.</p>"
   ],
   "metadata": {}
  },
  {
   "cell_type": "code",
   "execution_count": 14,
   "source": [
    "l = [(2,4), (6,8), (10,12)]"
   ],
   "outputs": [],
   "metadata": {}
  },
  {
   "cell_type": "code",
   "execution_count": 16,
   "source": [
    "for tup in l:\r\n",
    "    print(tup)"
   ],
   "outputs": [
    {
     "output_type": "stream",
     "name": "stdout",
     "text": [
      "(2, 4)\n",
      "(6, 8)\n",
      "(10, 12)\n"
     ]
    }
   ],
   "metadata": {}
  },
  {
   "cell_type": "code",
   "execution_count": 18,
   "source": [
    "for (t1, t2) in l:\r\n",
    "    print(t1)"
   ],
   "outputs": [
    {
     "output_type": "stream",
     "name": "stdout",
     "text": [
      "2\n",
      "6\n",
      "10\n"
     ]
    }
   ],
   "metadata": {}
  },
  {
   "cell_type": "markdown",
   "source": [
    "<p>Legal! com as tuplas em uma sequencia, podemos acessar os itens dentro delas por meio de desembalagem! A razão pela qual isso é importante é porque muitos objetos entregarão seus iteradores atraves de tuplas. Vamos começar a explorar a iteração atraves de Dicionario para explorar isso ainda mais:</p>"
   ],
   "metadata": {}
  },
  {
   "cell_type": "code",
   "execution_count": 19,
   "source": [
    "d = {\"k1\" : 1,\"k2\" : 2,\"k3\" : 3}"
   ],
   "outputs": [],
   "metadata": {}
  },
  {
   "cell_type": "code",
   "execution_count": 20,
   "source": [
    "for item in d:\r\n",
    "    print(item)"
   ],
   "outputs": [
    {
     "output_type": "stream",
     "name": "stdout",
     "text": [
      "k1\n",
      "k2\n",
      "k3\n"
     ]
    }
   ],
   "metadata": {}
  },
  {
   "cell_type": "markdown",
   "source": [
    "Observe como isso produz apenas chaves. Então, como podemos obter os valores ? Ou as chaves e os valores?\r\n",
    "\r\n",
    "<p>Você deve usar <strong>items</strong> para iterar atraves das chaves e valores de um dicionario. Por exemplo:</p>"
   ],
   "metadata": {}
  },
  {
   "cell_type": "code",
   "execution_count": 21,
   "source": [
    "for k, v in d.items():\r\n",
    "    print(k , v)"
   ],
   "outputs": [
    {
     "output_type": "stream",
     "name": "stdout",
     "text": [
      "k1 1\n",
      "k2 2\n",
      "k3 3\n"
     ]
    }
   ],
   "metadata": {}
  },
  {
   "cell_type": "markdown",
   "source": [
    "<h2>Conclusão</h2>\r\n",
    "\r\n",
    "<p>Aprendemos a usar o dor para  iterar atraves de tuplas, listas, strings, e dicionarios. Será uma ferramenta importante para nós, portanto, certifique-se bem e compreender os exemplos acima:</p>"
   ],
   "metadata": {}
  }
 ],
 "metadata": {
  "orig_nbformat": 4,
  "language_info": {
   "name": "python",
   "version": "3.8.8",
   "mimetype": "text/x-python",
   "codemirror_mode": {
    "name": "ipython",
    "version": 3
   },
   "pygments_lexer": "ipython3",
   "nbconvert_exporter": "python",
   "file_extension": ".py"
  },
  "kernelspec": {
   "name": "python3",
   "display_name": "Python 3.8.8 64-bit ('base': conda)"
  },
  "interpreter": {
   "hash": "513dc2e41d739bb2c947903f3c0bbf636d03aa53ab50e61c694a27481c81805e"
  }
 },
 "nbformat": 4,
 "nbformat_minor": 2
}