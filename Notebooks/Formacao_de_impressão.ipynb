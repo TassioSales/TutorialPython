{
 "cells": [
  {
   "cell_type": "markdown",
   "source": [
    "<h1>Formatação de impressão</h1>\r\n",
    "\r\n",
    "<p>Nesta seção, abordaremos brevemente as várias maneiras de formatar suas declarações impressas. À medida que você codificar mais e mais, você provavelmente deseja ter declarações de impressão que possam incluir uma variável em uma declaração de string impressa</p>\r\n",
    "\r\n",
    "<p>O exemplo mais básico de uma declaração de impressão é</p>"
   ],
   "metadata": {}
  },
  {
   "cell_type": "code",
   "execution_count": 1,
   "source": [
    "print(\"Isso e uma String\")"
   ],
   "outputs": [
    {
     "output_type": "stream",
     "name": "stdout",
     "text": [
      "Isso e uma String\n"
     ]
    }
   ],
   "metadata": {}
  },
  {
   "cell_type": "markdown",
   "source": [
    "<h1>Strings</h1>"
   ],
   "metadata": {}
  },
  {
   "cell_type": "code",
   "execution_count": 2,
   "source": [
    "#declarando s como uma String\r\n",
    "s = \"STRING\""
   ],
   "outputs": [],
   "metadata": {}
  },
  {
   "cell_type": "markdown",
   "source": [
    "<p>Você pode usae o % para formatar strings em suas instruções de impressão</p>"
   ],
   "metadata": {}
  },
  {
   "cell_type": "code",
   "execution_count": 3,
   "source": [
    "print(\"Coloque outra string com um mod e s: %s\" %(s))"
   ],
   "outputs": [
    {
     "output_type": "stream",
     "name": "stdout",
     "text": [
      "Coloque outra string com um mod e s: STRING\n"
     ]
    }
   ],
   "metadata": {}
  },
  {
   "cell_type": "markdown",
   "source": [
    "<p>Tambem pode usar o f\"{}\" tambem conhecido com fstring ou fprint <p>"
   ],
   "metadata": {}
  },
  {
   "cell_type": "code",
   "execution_count": 4,
   "source": [
    "print(f\"Coloque outra string com um mod e s: {s}\")"
   ],
   "outputs": [
    {
     "output_type": "stream",
     "name": "stdout",
     "text": [
      "Coloque outra string com um mod e s: STRING\n"
     ]
    }
   ],
   "metadata": {}
  },
  {
   "cell_type": "markdown",
   "source": [
    " <p> Tambem pode usar o .format() <p>"
   ],
   "metadata": {}
  },
  {
   "cell_type": "code",
   "execution_count": 5,
   "source": [
    "print(\"Coloque outra string com um mod e s: {}\".format(s))"
   ],
   "outputs": [
    {
     "output_type": "stream",
     "name": "stdout",
     "text": [
      "Coloque outra string com um mod e s: STRING\n"
     ]
    }
   ],
   "metadata": {}
  },
  {
   "cell_type": "markdown",
   "source": [
    "<h1>Número de ponto flutuante</h1>\r\n",
    "\r\n",
    "<p>Os números de ponto flutuante usam o formato %n.n2f onde o n1 é o número mínimo total de digitos que a cadeia deve conter \"()\" parenteses estes podem ser preenchidos com espaços em branco se o número inteiro não tiver esses muitos digitos. O espaço reservado n2 significa quando números para mostrar após o ponto decimal. Vamos ver alguns exemplos:</p>"
   ],
   "metadata": {}
  },
  {
   "cell_type": "code",
   "execution_count": 10,
   "source": [
    "print(\"Números de ponto flutuante: %1.2f\" %(13.144))\r\n",
    "print(f'Números de ponto flutuante: {13.144:1.2f}')\r\n",
    "print(\"Números de ponto flutuante: {:1.2f}\".format(13.144))"
   ],
   "outputs": [
    {
     "output_type": "stream",
     "name": "stdout",
     "text": [
      "Números de ponto flutuante: 13.14\n",
      "Números de ponto flutuante: 13.14\n",
      "Números de ponto flutuante: 13.14\n"
     ]
    }
   ],
   "metadata": {}
  },
  {
   "cell_type": "code",
   "execution_count": 11,
   "source": [
    "print(\"Números de ponto flutuante: %1.0f\" %(13.144))\r\n",
    "print(f'Números de ponto flutuante: {13.144:1.0f}')\r\n",
    "print(\"Números de ponto flutuante: {:1.0f}\".format(13.144))"
   ],
   "outputs": [
    {
     "output_type": "stream",
     "name": "stdout",
     "text": [
      "Números de ponto flutuante: 13\n",
      "Números de ponto flutuante: 13\n",
      "Números de ponto flutuante: 13\n"
     ]
    }
   ],
   "metadata": {}
  },
  {
   "cell_type": "code",
   "execution_count": 12,
   "source": [
    "print(\"Números de ponto flutuante: %1.5f\" %(13.144))\r\n",
    "print(f'Números de ponto flutuante: {13.144:1.5f}')\r\n",
    "print(\"Números de ponto flutuante: {:1.5f}\".format(13.144))"
   ],
   "outputs": [
    {
     "output_type": "stream",
     "name": "stdout",
     "text": [
      "Números de ponto flutuante: 13.14400\n",
      "Números de ponto flutuante: 13.14400\n",
      "Números de ponto flutuante: 13.14400\n"
     ]
    }
   ],
   "metadata": {}
  },
  {
   "cell_type": "code",
   "execution_count": 13,
   "source": [
    "print(\"Números de ponto flutuante: %10.2f\" %(13.144))\r\n",
    "print(f'Números de ponto flutuante: {13.144:10.2f}')\r\n",
    "print(\"Números de ponto flutuante: {:10.2f}\".format(13.144))"
   ],
   "outputs": [
    {
     "output_type": "stream",
     "name": "stdout",
     "text": [
      "Números de ponto flutuante:      13.14\n",
      "Números de ponto flutuante:      13.14\n",
      "Números de ponto flutuante:      13.14\n"
     ]
    }
   ],
   "metadata": {}
  },
  {
   "cell_type": "code",
   "execution_count": null,
   "source": [
    "print(\"Números de ponto flutuante: %25.2f\" %(13.144))\r\n",
    "print(f'Números de ponto flutuante: {13.144:25.2f}')\r\n",
    "print(\"Números de ponto flutuante: {:25.2f}\".format(13.144))"
   ],
   "outputs": [
    {
     "output_type": "stream",
     "name": "stdout",
     "text": [
      "Números de ponto flutuante:                     13.14\n",
      "Números de ponto flutuante:                     13.14\n",
      "Números de ponto flutuante:                     13.14\n"
     ]
    }
   ],
   "metadata": {}
  },
  {
   "cell_type": "markdown",
   "source": [
    "<h1>Metodos e formato de conversão</h1>\r\n",
    "\r\n",
    "<p>Deve notar - se que os dois método %s %r realmente convertem quase qualquer objeto Python em uma String usando dois metodos separados str() e repr()<p>"
   ],
   "metadata": {}
  },
  {
   "cell_type": "code",
   "execution_count": 19,
   "source": [
    "print(\"Aqui está um número: %s. Aqui está um String: %s \" %(123.1, \"Oi\"))\r\n",
    "print(f\"Aqui está um número: {123.1}. Aqui está uma String: {'Oi'}\")\r\n",
    "print(\"Aqui está um número: {}. Aqui está uma String: {}\".format(123.1, \"Oi\"))"
   ],
   "outputs": [
    {
     "output_type": "stream",
     "name": "stdout",
     "text": [
      "Aqui está um número: 123.1. Aqui está um String: Oi \n",
      "Aqui está um número: 123.1. Aqui está uma String: Oi\n",
      "Aqui está um número: 123.1. Aqui está uma String: Oi\n"
     ]
    }
   ],
   "metadata": {}
  },
  {
   "cell_type": "code",
   "execution_count": 34,
   "source": [
    "print(\"Aqui está um número: %r. Aqui está uma String: %r \" %(123.1, \"Oi\"))\r\n",
    "print(f\"Aqui está um número: {123.1}. Aqui está uma String: {'Oi'}\")\r\n",
    "print(\"Aqui está um número: {}. Aqui está uma String: {}\".format(123.1, \"Oi\"))"
   ],
   "outputs": [
    {
     "output_type": "stream",
     "name": "stdout",
     "text": [
      "Aqui está um número: 123.1. Aqui está uma String: 'Oi' \n",
      "Aqui está um número: 123.1. Aqui está uma String: Oi\n",
      "Aqui está um número: 123.1. Aqui está uma String: Oi\n"
     ]
    }
   ],
   "metadata": {}
  },
  {
   "cell_type": "markdown",
   "source": [
    "<h1>Formatação múltipla</h1>\r\n",
    "\r\n",
    "<p>Passe uma tupla para junto com o simbolo do modulo para colocar varios formatos nas suas declarações de impressão:</p>"
   ],
   "metadata": {}
  },
  {
   "cell_type": "code",
   "execution_count": 32,
   "source": [
    "print(\"Primeiro: %s, Segundo: %1.2f, Terceiro: %r\" %(\"hi\", 3.14, 22))\r\n",
    "print(f\"Primeiro: {str('hi')}, Segundo: {float(3.14):1.2f}, Terceito: {repr(22)}\")\r\n",
    "print(\"Primeiro: {}, Segundo: {:1.2f}, Terceito: {}\".format(str(\"hi\"), float(3.14), repr(22)))"
   ],
   "outputs": [
    {
     "output_type": "stream",
     "name": "stdout",
     "text": [
      "Primeiro: hi, Segundo: 3.14, Terceiro: 22\n",
      "Primeiro: hi, Segundo: 3.14, Terceito: 22\n",
      "Primeiro: hi, Segundo: 3.14, Terceito: 22\n"
     ]
    }
   ],
   "metadata": {}
  },
  {
   "cell_type": "markdown",
   "source": [
    "<h1>Usando o método string.format ()</h1>\r\n",
    "\r\n",
    "<p>A melhor maneira de formatar objetos em suas strings para instruções de impressão é usar o método format(). </p>\r\n",
    "<p>A sintaxe é:  'String aqui {var1} e também {var2}'.format(var1 = 'something1', var2 = 'something2')</p>\r\n",
    "\r\n",
    "<p>Vamos ver alguns exemplos:</p>"
   ],
   "metadata": {}
  },
  {
   "cell_type": "code",
   "execution_count": 37,
   "source": [
    "print('Esta é uma string com um {p}'.format(p='inserir'))\r\n",
    "print('Esta é uma string com um {}'.format('inserir'))"
   ],
   "outputs": [
    {
     "output_type": "stream",
     "name": "stdout",
     "text": [
      "Esta é uma string com um inserir\n",
      "Esta é uma string com um inserir\n"
     ]
    }
   ],
   "metadata": {}
  },
  {
   "cell_type": "code",
   "execution_count": 39,
   "source": [
    "print('Um: {p}, Dois: {p}, Tres: {p}'.format(p='Oi!'))\r\n",
    "print('Um: {}, Dois: {}, Tres: {}'.format('Oi!','Oi!','Oi!'))"
   ],
   "outputs": [
    {
     "output_type": "stream",
     "name": "stdout",
     "text": [
      "Um: Oi!, Dois: Oi!, Tres: Oi!\n",
      "Um: Oi!, Dois: Oi!, Tres: Oi!\n"
     ]
    }
   ],
   "metadata": {}
  },
  {
   "cell_type": "code",
   "execution_count": 41,
   "source": [
    "print('Objeto 1: {a}, Objeto 2: {b}, Objeto 3: {c}'.format(a=1, b='two',c=12.3))\r\n",
    "print('Objeto 1: {}, Objeto 2: {}, Objeto 3: {}'.format(1, 'two', 12.3))"
   ],
   "outputs": [
    {
     "output_type": "stream",
     "name": "stdout",
     "text": [
      "Objeto 1: 1, Objeto 2: two, Objeto 3: 12.3\n",
      "Objeto 1: 1, Objeto 2: two, Objeto 3: 12.3\n"
     ]
    }
   ],
   "metadata": {}
  },
  {
   "cell_type": "markdown",
   "source": [
    "<h1>Usando o metodo fString</h1>"
   ],
   "metadata": {}
  },
  {
   "cell_type": "code",
   "execution_count": 45,
   "source": [
    "a = 13\r\n",
    "b = 'two'\r\n",
    "c = 12.3\r\n",
    "\r\n",
    "print(f'Objeto 1: {a}, Objeto 2: {b}, Objeto 3: {c}')"
   ],
   "outputs": [
    {
     "output_type": "stream",
     "name": "stdout",
     "text": [
      "Objeto 1: 13, Objeto 2: two, Objeto 3: 12.3\n"
     ]
    }
   ],
   "metadata": {}
  }
 ],
 "metadata": {
  "orig_nbformat": 4,
  "language_info": {
   "name": "python",
   "version": "3.9.6",
   "mimetype": "text/x-python",
   "codemirror_mode": {
    "name": "ipython",
    "version": 3
   },
   "pygments_lexer": "ipython3",
   "nbconvert_exporter": "python",
   "file_extension": ".py"
  },
  "kernelspec": {
   "name": "python3",
   "display_name": "Python 3.9.6 64-bit (system)"
  },
  "interpreter": {
   "hash": "1202e818cab8df35c21d4988ef14ff76590a458d6bab584fe1b1c3f6f0c17a35"
  }
 },
 "nbformat": 4,
 "nbformat_minor": 2
}