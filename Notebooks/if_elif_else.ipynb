{
 "cells": [
  {
   "cell_type": "markdown",
   "source": [
    "<h1>IF, ELIF, ELSE</h1>\r\n",
    "<h2>(if, elif, else)</h2>\r\n",
    "\r\n",
    "<p>If em python nos permite contar ao computador para executar ações alternativas com base em um determinado conjunto de resultados.Verbamento, podemos imaginar que estamos informando o computador</p>\r\n",
    "\r\n",
    "<p>\"Se isso caso acontecer, execultar alguma ação\" Podemos  então expandir a ideia com declarações elif e else, o que nos permite contar ao computador:</p>\r\n",
    "\r\n",
    "<p>\"Se esse caso acontecer, execute alguma ação. Caso contrario, se aquilo acontecer, execute alguma outra ação. Caso contario, se nenhuma dos casos acima acontenceu, execute esta ação\" Vamos avançar e ver o formato de sintaxe para as instruções if para ter uma ideia melhor disso:</p> "
   ],
   "metadata": {}
  },
  {
   "cell_type": "markdown",
   "source": [
    "<strong>\r\n",
    "    <p>\r\n",
    "        if case1:<br>\r\n",
    "        &emsp; executar ação1<br>\r\n",
    "        if case2:<br>\r\n",
    "        &emsp; executar ação2 <br>\r\n",
    "        else:<br>\r\n",
    "        &emsp; executar ação3 <br>\r\n",
    "    </p>\r\n",
    "</strong>\r\n",
    "\r\n"
   ],
   "metadata": {}
  },
  {
   "cell_type": "markdown",
   "source": [
    "<h2>Exemplos</h2>\r\n",
    "\r\n",
    "<p>Vamor ver um exemplo rapido disso</p>"
   ],
   "metadata": {}
  },
  {
   "cell_type": "code",
   "execution_count": 1,
   "source": [
    "if True:\r\n",
    "    print(\"It was True (Era verdade)\")"
   ],
   "outputs": [
    {
     "output_type": "stream",
     "name": "stdout",
     "text": [
      "It was True (Era verdade)\n"
     ]
    }
   ],
   "metadata": {}
  },
  {
   "cell_type": "markdown",
   "source": [
    "<p>Vamos adicionar outra logica: </p>"
   ],
   "metadata": {}
  },
  {
   "cell_type": "code",
   "execution_count": 5,
   "source": [
    "x =  False\r\n",
    "if x:\r\n",
    "    print(\"x was True\")\r\n",
    "    print(\"era verdade\")\r\n",
    "else:\r\n",
    "    print(\"I will be printed in any case where x is not True\")\r\n",
    "    print(\"Serei impresso em qualquer caso em que x não seja verdadeiro\")"
   ],
   "outputs": [
    {
     "output_type": "stream",
     "name": "stdout",
     "text": [
      "I will be printed in any case where x is not True\n",
      "Serei impresso em qualquer caso em que x não seja verdadeiro\n"
     ]
    }
   ],
   "metadata": {}
  },
  {
   "cell_type": "markdown",
   "source": [
    "<h1>Multiplos ramos</h1>\r\n",
    "\r\n",
    "<p>Vamos ver de forma mais completa de quão longe if, elif, e else podem nos levar! Nós escrevemos isso em uma estrurura aninhada. Tome nota de comoo if, elif e else se alinham no código. Isso pode ajuda-lo a ver que se releciona com elif ou outras afirmações.</p>\r\n",
    "\r\n",
    "<p>Vamos reintroduzir uma sintaxe de comparação para Python</p>"
   ],
   "metadata": {}
  },
  {
   "cell_type": "code",
   "execution_count": 9,
   "source": [
    "loc = \"Banco\"\r\n",
    "\r\n",
    "if loc == \"Loja de carros\":\r\n",
    "    print(\"Bem-vindo à Oficina de Automóveis!!\")\r\n",
    "elif loc == \"Banco\":\r\n",
    "    print(\"Bem vindo ao Banco\")\r\n",
    "else:\r\n",
    "    print(\"Onde você está ?\")"
   ],
   "outputs": [
    {
     "output_type": "stream",
     "name": "stdout",
     "text": [
      "Bem vindo ao Banco\n"
     ]
    }
   ],
   "metadata": {}
  },
  {
   "cell_type": "markdown",
   "source": [
    "<p>Observe como as declarações if aninhadas são verificadas até que um booleano True faça com que os códigos aninhados abaixo seja executado. Você também deve notar que você pode colocar as declarações elif quando desejar antes de fechar com outra.</p>\r\n",
    "\r\n",
    "<p>Vamos criar dois exemplos mais simples para firmações if, elif, e else</p>\r\n",
    "\r\n",
    "\r\n"
   ],
   "metadata": {}
  },
  {
   "cell_type": "code",
   "execution_count": 10,
   "source": [
    "person = \"Sammy\"\r\n",
    "\r\n",
    "if person == \"Sammy\":\r\n",
    "    print(\"Bem vindo sammy\")\r\n",
    "else:\r\n",
    "    print(\"Bem vindo, Qual o seu nome ?\")"
   ],
   "outputs": [
    {
     "output_type": "stream",
     "name": "stdout",
     "text": [
      "Welcome Sammy\n"
     ]
    }
   ],
   "metadata": {}
  },
  {
   "cell_type": "code",
   "execution_count": 1,
   "source": [
    "person = \"George\"\r\n",
    "\r\n",
    "if person ==  \"Sammy\":\r\n",
    "    print(\"Welcome Sammy!\")\r\n",
    "elif person == \"George\":\r\n",
    "    print(\"Welcome George!\")\r\n",
    "else:\r\n",
    "    print(\"Welcome, whats's your nome ?\")"
   ],
   "outputs": [
    {
     "output_type": "stream",
     "name": "stdout",
     "text": [
      "Welcome George!\n"
     ]
    }
   ],
   "metadata": {}
  },
  {
   "cell_type": "markdown",
   "source": [
    "<h2>Indentação</h2>\r\n",
    "\r\n",
    "<p>É importante manter uma boa compreensão de como o recuo funciona no Python para manter a estrutura e a ordem do seu codigo. Vamos voltar a tocar neste tópico quando começarmos a criar funções!</p>\r\n"
   ],
   "metadata": {}
  }
 ],
 "metadata": {
  "orig_nbformat": 4,
  "language_info": {
   "name": "python",
   "version": "3.8.8",
   "mimetype": "text/x-python",
   "codemirror_mode": {
    "name": "ipython",
    "version": 3
   },
   "pygments_lexer": "ipython3",
   "nbconvert_exporter": "python",
   "file_extension": ".py"
  },
  "kernelspec": {
   "name": "python3",
   "display_name": "Python 3.8.8 64-bit ('base': conda)"
  },
  "interpreter": {
   "hash": "513dc2e41d739bb2c947903f3c0bbf636d03aa53ab50e61c694a27481c81805e"
  }
 },
 "nbformat": 4,
 "nbformat_minor": 2
}