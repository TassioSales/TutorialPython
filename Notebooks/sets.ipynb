{
 "cells": [
  {
   "cell_type": "markdown",
   "source": [
    "<h1>Sets</h1>\r\n",
    "\r\n",
    "Os conjuntos de (sets) são uma coleção não ordenada de elementos únicos. Podemos construilos usando a função set(). Vamos fazer um consjuntos para como funciona."
   ],
   "metadata": {}
  },
  {
   "cell_type": "code",
   "execution_count": 3,
   "source": [
    "x = set()"
   ],
   "outputs": [],
   "metadata": {}
  },
  {
   "cell_type": "code",
   "execution_count": 5,
   "source": [
    "# Adicionando elementos com o metodo add()\r\n",
    "x.add(1)"
   ],
   "outputs": [],
   "metadata": {}
  },
  {
   "cell_type": "code",
   "execution_count": 8,
   "source": [
    "# Visualizando\r\n",
    "x"
   ],
   "outputs": [
    {
     "output_type": "execute_result",
     "data": {
      "text/plain": [
       "{1}"
      ]
     },
     "metadata": {},
     "execution_count": 8
    }
   ],
   "metadata": {}
  },
  {
   "cell_type": "markdown",
   "source": [
    "<p>Observe os colchetes. Issso não indica um dicionario! Embora você \r\n",
    "possa montas analogicos como um set sendo um dicionario com apenas  \r\n",
    "chaves. Sabemos que um consjunto tem apenas entradas unicas. Então, \r\n",
    "o que acontece quando tentamos adicionar algo que já esta em um conjunto ?</p>"
   ],
   "metadata": {}
  },
  {
   "cell_type": "code",
   "execution_count": 9,
   "source": [
    "x.add(2)"
   ],
   "outputs": [],
   "metadata": {}
  },
  {
   "cell_type": "code",
   "execution_count": 11,
   "source": [
    "#visualizando\r\n",
    "x"
   ],
   "outputs": [
    {
     "output_type": "execute_result",
     "data": {
      "text/plain": [
       "{1, 2}"
      ]
     },
     "metadata": {},
     "execution_count": 11
    }
   ],
   "metadata": {}
  },
  {
   "cell_type": "code",
   "execution_count": 13,
   "source": [
    "#Adicionando o mesmo elemento\r\n",
    "x.add(1)"
   ],
   "outputs": [],
   "metadata": {}
  },
  {
   "cell_type": "code",
   "execution_count": 14,
   "source": [
    "#visualizando\r\n",
    "x"
   ],
   "outputs": [
    {
     "output_type": "execute_result",
     "data": {
      "text/plain": [
       "{1, 2}"
      ]
     },
     "metadata": {},
     "execution_count": 14
    }
   ],
   "metadata": {}
  },
  {
   "cell_type": "markdown",
   "source": [
    "<p>Observe como ele não colocára mais um 1 dentro o set. Isso porque um conjunto apenas se oculpa de elementos exclusivos Podemos transforma uma lista com multiplos elementos repetidos para um conjunto para obter os elementos exclusivos. Por exemplo:</p>"
   ],
   "metadata": {}
  },
  {
   "cell_type": "code",
   "execution_count": 15,
   "source": [
    "# Cria uma lista com elementos repetidos\r\n",
    "l = [1, 1, 2, 2, 2, 3, 3, 3, 3, 4, 4, 4, 4, 4, 5, 5, 5, 5, 5, 5, 6, 6, 6, 6, 6, 7, 7, 7, 7, 7, 7]"
   ],
   "outputs": [],
   "metadata": {}
  },
  {
   "cell_type": "code",
   "execution_count": 17,
   "source": [
    "# Transforma em set com elementos únicos\r\n",
    "set(l) "
   ],
   "outputs": [
    {
     "output_type": "execute_result",
     "data": {
      "text/plain": [
       "{1, 2, 3, 4, 5, 6, 7}"
      ]
     },
     "metadata": {},
     "execution_count": 17
    }
   ],
   "metadata": {}
  },
  {
   "cell_type": "markdown",
   "source": [
    "<p>Agora você ja sabe como usar sets em seu códigos, lembre-se de usá-los quando você precisar de elementos não repetidos</p> "
   ],
   "metadata": {}
  }
 ],
 "metadata": {
  "orig_nbformat": 4,
  "language_info": {
   "name": "python",
   "version": "3.9.6",
   "mimetype": "text/x-python",
   "codemirror_mode": {
    "name": "ipython",
    "version": 3
   },
   "pygments_lexer": "ipython3",
   "nbconvert_exporter": "python",
   "file_extension": ".py"
  },
  "kernelspec": {
   "name": "python3",
   "display_name": "Python 3.9.6 64-bit (system)"
  },
  "interpreter": {
   "hash": "1202e818cab8df35c21d4988ef14ff76590a458d6bab584fe1b1c3f6f0c17a35"
  }
 },
 "nbformat": 4,
 "nbformat_minor": 2
}