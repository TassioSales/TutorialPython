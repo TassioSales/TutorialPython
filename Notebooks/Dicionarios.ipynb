{
 "cells": [
  {
   "cell_type": "markdown",
   "source": [
    "<h1>Dicionários</h1>\r\n",
    "\r\n",
    "<p>Nas seções anteriores temos aprendido sobre sequencias em python, mas agora vamos mudar de engrenagem e aprender sobre mapeamentos em python. Se você está familiarizado com outras linguagens, pode pensar nestes Dicionarios como tabelas de hash</p>\r\n",
    "<p>Então, o que são os mapeamentos ? Os mapeamentos são uma coleção de objetos que são armazenados por uma chave, ao contrario de uma sequencia que armazena objetos por sua posição relativa. Esta é uma distinção importante, uma vez que os mapeamentos não reterão a ordem, pois possuem objetos definidos por uma chave</p>\r\n",
    "<p>Uma dicionario de python consiste em uma chave e depois em um valor associado. Esse valor pode ser  quase qualquer objeto Python.</p>\r\n",
    "\r\n",
    "<h2>O que aprenderemos</h2>\r\n",
    "\r\n",
    "<ol>\r\n",
    "    <li>Construindo um dicionario</li>\r\n",
    "    <li>Acessando objetos de um dicionario</li>\r\n",
    "    <li>Dicionarios assentamento</li>\r\n",
    "    <li>Metodos basicos</li>\r\n",
    "</ol>\r\n"
   ],
   "metadata": {}
  },
  {
   "cell_type": "markdown",
   "source": [
    "<h1>Construindo um Dicionário</h1>\r\n",
    "<p>Vamos ver como podemos construir dicionarios para obter uma melhor compreensão de como eles funcionam!</p>"
   ],
   "metadata": {}
  },
  {
   "cell_type": "code",
   "execution_count": 1,
   "source": [
    "#Cria um dicionario com {} e:  que significa e uma chave valor\r\n",
    "\r\n",
    "#formas de criar uma dicionario:\r\n",
    "# dicionario = {}\r\n",
    "# dicionario = dict()\r\n",
    "\r\n",
    "meu_dicionario = {\"chave_1\" : \"valor_1\", \"chave_2\" : \"Valor_2\"}"
   ],
   "outputs": [],
   "metadata": {}
  },
  {
   "cell_type": "code",
   "execution_count": 3,
   "source": [
    "#chamando valores\r\n",
    "meu_dicionario['chave_2']"
   ],
   "outputs": [
    {
     "output_type": "execute_result",
     "data": {
      "text/plain": [
       "'Valor_2'"
      ]
     },
     "metadata": {},
     "execution_count": 3
    }
   ],
   "metadata": {}
  },
  {
   "cell_type": "markdown",
   "source": [
    "<p>É importante notar que os dicionarios são muitos flexiveis com relação aos tipoes de dados que eles podem conter: Por Exemplo</p>"
   ],
   "metadata": {}
  },
  {
   "cell_type": "code",
   "execution_count": 14,
   "source": [
    "meu_dicionario = {\"chave_1\" : 123, \"chave_2\":[12, 23, 33], \"chave_3\":[\"item1\", \"item2\",\"item3\"] }"
   ],
   "outputs": [],
   "metadata": {}
  },
  {
   "cell_type": "code",
   "execution_count": 5,
   "source": [
    "#vamos chamar os itens do dicionario\r\n",
    "meu_dicionario[\"chave_3\"]"
   ],
   "outputs": [
    {
     "output_type": "execute_result",
     "data": {
      "text/plain": [
       "['item1', 'item2', 'item3']"
      ]
     },
     "metadata": {},
     "execution_count": 5
    }
   ],
   "metadata": {}
  },
  {
   "cell_type": "code",
   "execution_count": 6,
   "source": [
    "#Podemos chamar itens de uma lista presente na posição referente a chave_3\r\n",
    "meu_dicionario[\"chave_3\"][0]"
   ],
   "outputs": [
    {
     "output_type": "execute_result",
     "data": {
      "text/plain": [
       "'item1'"
      ]
     },
     "metadata": {},
     "execution_count": 6
    }
   ],
   "metadata": {}
  },
  {
   "cell_type": "code",
   "execution_count": 7,
   "source": [
    "#podemos chamar os metodos nos itens tambem\r\n",
    "meu_dicionario[\"chave_3\"][1].upper()"
   ],
   "outputs": [
    {
     "output_type": "execute_result",
     "data": {
      "text/plain": [
       "'ITEM2'"
      ]
     },
     "metadata": {},
     "execution_count": 7
    }
   ],
   "metadata": {}
  },
  {
   "cell_type": "markdown",
   "source": [
    "<p>podemos também alterar valores atravs da chave</p>"
   ],
   "metadata": {}
  },
  {
   "cell_type": "code",
   "execution_count": 15,
   "source": [
    "meu_dicionario[\"chave_1\"] = meu_dicionario['chave_1'] - 120"
   ],
   "outputs": [],
   "metadata": {}
  },
  {
   "cell_type": "code",
   "execution_count": 16,
   "source": [
    "meu_dicionario['chave_1']"
   ],
   "outputs": [
    {
     "output_type": "execute_result",
     "data": {
      "text/plain": [
       "3"
      ]
     },
     "metadata": {},
     "execution_count": 16
    }
   ],
   "metadata": {}
  },
  {
   "cell_type": "markdown",
   "source": [
    "<p>Uma nota rapida: O python possui uma metodo interno de fazer uma subtração ou uma adição autmatica (ou multiplicação ou divisão) += ou -= para atribuição pode exemplo</p>"
   ],
   "metadata": {}
  },
  {
   "cell_type": "code",
   "execution_count": 17,
   "source": [
    "#define o objeto com sendo ele mesmo \r\n",
    "meu_dicionario[\"chave_1\"] -= 123\r\n",
    "meu_dicionario['chave_1'] += 200\r\n",
    "meu_dicionario['chave_1'] *= 3\r\n",
    "meu_dicionario['chave_1'] /= 2\r\n",
    "meu_dicionario[\"chave_1\"]\r\n",
    "#"
   ],
   "outputs": [
    {
     "output_type": "execute_result",
     "data": {
      "text/plain": [
       "120.0"
      ]
     },
     "metadata": {},
     "execution_count": 17
    }
   ],
   "metadata": {}
  },
  {
   "cell_type": "markdown",
   "source": [
    "<p>Tambem podemos criar chaves por atibuição por exemplo, se começassemos com um dicionario vazio, poderiamos adicionar continuamente</p>"
   ],
   "metadata": {}
  },
  {
   "cell_type": "code",
   "execution_count": 18,
   "source": [
    "#cria um novo dicionario \r\n",
    "d = dict()"
   ],
   "outputs": [],
   "metadata": {}
  },
  {
   "cell_type": "code",
   "execution_count": 19,
   "source": [
    "#criando uma chave de  associação\r\n",
    "d[\"Animal\"] = \"Cachorro\""
   ],
   "outputs": [],
   "metadata": {}
  },
  {
   "cell_type": "code",
   "execution_count": 20,
   "source": [
    "# podemos fazer com qualquer objeto\r\n",
    "d[\"idade\"] = 10"
   ],
   "outputs": [],
   "metadata": {}
  },
  {
   "cell_type": "code",
   "execution_count": 21,
   "source": [
    "#Mostra\r\n",
    "d"
   ],
   "outputs": [
    {
     "output_type": "execute_result",
     "data": {
      "text/plain": [
       "{'Animal': 'Cachorro', 'idade': 10}"
      ]
     },
     "metadata": {},
     "execution_count": 21
    }
   ],
   "metadata": {}
  },
  {
   "cell_type": "markdown",
   "source": [
    "<h1>Aninhamento de dicionario</h1>\r\n",
    "\r\n",
    "<p>Espero que você esteja começando a ver o quão poderoso Python e com sua flexibilidade de objetos de nitificação e metodos dos mesmos. vamos ver uma dicionario aninhado dentro de um dicionario</p>"
   ],
   "metadata": {}
  },
  {
   "cell_type": "code",
   "execution_count": 22,
   "source": [
    "dicinario = {\"chave_primaria\" : {\"chave_secundaria\" : {\"chave_tercearia\" : \"Valor\"}}}"
   ],
   "outputs": [],
   "metadata": {}
  },
  {
   "cell_type": "code",
   "execution_count": 23,
   "source": [
    "#chamando as chaves\r\n",
    "dicinario['chave_primaria']['chave_secundaria']['chave_tercearia']"
   ],
   "outputs": [
    {
     "output_type": "execute_result",
     "data": {
      "text/plain": [
       "'Valor'"
      ]
     },
     "metadata": {},
     "execution_count": 23
    }
   ],
   "metadata": {}
  },
  {
   "cell_type": "markdown",
   "source": [
    "<h1>Alguns metodos de dicionario</h1>\r\n",
    "<p>Existem alguns metodos que podemos chamar em um dicionario. Vamos começar uma breve introdução a alguns deles</p>"
   ],
   "metadata": {}
  },
  {
   "cell_type": "code",
   "execution_count": 24,
   "source": [
    "#Criando um dicionario\r\n",
    "dic = {\"key1\" : 1, \"key2\" : 2, \"key3\" : 3}"
   ],
   "outputs": [],
   "metadata": {}
  },
  {
   "cell_type": "code",
   "execution_count": 28,
   "source": [
    "#Retornando as chaves do dicionario\r\n",
    "dic.keys()"
   ],
   "outputs": [
    {
     "output_type": "execute_result",
     "data": {
      "text/plain": [
       "dict_keys(['key1', 'key2', 'key3'])"
      ]
     },
     "metadata": {},
     "execution_count": 28
    }
   ],
   "metadata": {}
  },
  {
   "cell_type": "code",
   "execution_count": 29,
   "source": [
    "#Retorna os  valores do dicionario\r\n",
    "dic.values()"
   ],
   "outputs": [
    {
     "output_type": "execute_result",
     "data": {
      "text/plain": [
       "dict_values([1, 2, 3])"
      ]
     },
     "metadata": {},
     "execution_count": 29
    }
   ],
   "metadata": {}
  },
  {
   "cell_type": "code",
   "execution_count": 32,
   "source": [
    "#Método p(ara retorna as tuplas de todos os itens\r\n",
    "dic.items()"
   ],
   "outputs": [
    {
     "output_type": "execute_result",
     "data": {
      "text/plain": [
       "dict_items([('key1', 1), ('key2', 2), ('key3', 3)])"
      ]
     },
     "metadata": {},
     "execution_count": 32
    }
   ],
   "metadata": {}
  },
  {
   "cell_type": "markdown",
   "source": [
    "<p>Espero que você tenha agora um bom conhecimento dasico para construção de dicionarios</p>"
   ],
   "metadata": {}
  }
 ],
 "metadata": {
  "orig_nbformat": 4,
  "language_info": {
   "name": "python",
   "version": "3.9.6",
   "mimetype": "text/x-python",
   "codemirror_mode": {
    "name": "ipython",
    "version": 3
   },
   "pygments_lexer": "ipython3",
   "nbconvert_exporter": "python",
   "file_extension": ".py"
  },
  "kernelspec": {
   "name": "python3",
   "display_name": "Python 3.9.6 64-bit (system)"
  },
  "interpreter": {
   "hash": "1202e818cab8df35c21d4988ef14ff76590a458d6bab584fe1b1c3f6f0c17a35"
  }
 },
 "nbformat": 4,
 "nbformat_minor": 2
}