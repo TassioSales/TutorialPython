{
 "cells": [
  {
   "cell_type": "markdown",
   "id": "07f10e31",
   "metadata": {},
   "source": [
    "<h1>Strings</h1>\n",
    "\n",
    "<p>As strings são usadas em Python para registrar informações de texto, como nomes ou frases. As strings em Python são na verdade uma sequência, o que basicamente significa que o python acompanha cada elemento da string como uma sequencia de caracteres.</p>\n",
    "\n",
    "<p>Por exemplo, Python entende a string <strong>\"hello\"</strong> como uma sequência de letras em uma ordem especifica. Isso significa que poderemos  usar a indexação para pegar letras particulares (como a primeira letra ou a última letra)</p>\n",
    "\n",
    "<p>Essas idéia de uma sequência e importante em Python e nós vamos abordá-la logo abaixo</p>\n",
    "\n",
    "<h1>Criando uma String</h1>\n",
    "\n",
    "<p>Para Criar uma string em Python, você precisa usar aspas simples ou aspas duplas. Por exemplo</p>"
   ]
  },
  {
   "cell_type": "markdown",
   "id": "570234da",
   "metadata": {},
   "source": [
    "<p><strong>Uma palavra</strong></p>"
   ]
  },
  {
   "cell_type": "code",
   "execution_count": 1,
   "id": "319c7261",
   "metadata": {},
   "outputs": [
    {
     "data": {
      "text/plain": [
       "'hello'"
      ]
     },
     "execution_count": 1,
     "metadata": {},
     "output_type": "execute_result"
    }
   ],
   "source": [
    "'hello'"
   ]
  },
  {
   "cell_type": "markdown",
   "id": "43a39e38",
   "metadata": {},
   "source": [
    "<p><strong>Uma frase inteira</strong></p>"
   ]
  },
  {
   "cell_type": "code",
   "execution_count": 2,
   "id": "54c0eaa4",
   "metadata": {},
   "outputs": [
    {
     "data": {
      "text/plain": [
       "'Isso também é uma string'"
      ]
     },
     "execution_count": 2,
     "metadata": {},
     "output_type": "execute_result"
    }
   ],
   "source": [
    "'Isso também é uma string'"
   ]
  },
  {
   "cell_type": "markdown",
   "id": "50fef9fe",
   "metadata": {},
   "source": [
    "<p><strong>Também é possivel usar aspas duplas</strong></p>"
   ]
  },
  {
   "cell_type": "code",
   "execution_count": 3,
   "id": "4f637cbe",
   "metadata": {},
   "outputs": [
    {
     "data": {
      "text/plain": [
       "'String com aspas duplas'"
      ]
     },
     "execution_count": 3,
     "metadata": {},
     "output_type": "execute_result"
    }
   ],
   "source": [
    "\"String com aspas duplas\""
   ]
  },
  {
   "cell_type": "markdown",
   "id": "a6b6ee84",
   "metadata": {},
   "source": [
    "<h1>Imprimindo uma String</h1>\n",
    "\n",
    "<p>Uma sequecia de caracteres emitirá automaticamente cadeias de caracteres, mas a maneira correta de exibir strings na sua saida é usando uma função de impressão</p>"
   ]
  },
  {
   "cell_type": "markdown",
   "id": "c13b8e97",
   "metadata": {},
   "source": [
    "<p><strong>Podemos simplismente declarar uma string</strong></p>"
   ]
  },
  {
   "cell_type": "code",
   "execution_count": 4,
   "id": "b25ee651",
   "metadata": {},
   "outputs": [
    {
     "data": {
      "text/plain": [
       "'Hello word'"
      ]
     },
     "execution_count": 4,
     "metadata": {},
     "output_type": "execute_result"
    }
   ],
   "source": [
    "'Hello word'"
   ]
  },
  {
   "cell_type": "markdown",
   "id": "bdc89823",
   "metadata": {},
   "source": [
    "<p>Mas a maneira correta é utilizar o metodo <strong>print()</strong></p>"
   ]
  },
  {
   "cell_type": "code",
   "execution_count": 6,
   "id": "2a3c9885",
   "metadata": {},
   "outputs": [
    {
     "name": "stdout",
     "output_type": "stream",
     "text": [
      "Hello World 1\n",
      "Hello World 2\n",
      "Use \n",
      " para inserir uma nova linha\n",
      "Nova linha\n",
      "Hello World\n"
     ]
    }
   ],
   "source": [
    "print(\"Hello World 1\")\n",
    "print(\"Hello World 2\")\n",
    "print(\"Use \\n para inserir uma nova linha\")\n",
    "print(\"Nova linha\")\n",
    "print(\"Hello\", end =\" \")\n",
    "print(\"World\")"
   ]
  },
  {
   "cell_type": "markdown",
   "id": "2b6db130",
   "metadata": {},
   "source": [
    "<p>Nós também podemos usar uma função chamada <strong>len()</strong> para verificar o comprimento de uma string! </p>"
   ]
  },
  {
   "cell_type": "code",
   "execution_count": 7,
   "id": "c28b5d1b",
   "metadata": {},
   "outputs": [
    {
     "data": {
      "text/plain": [
       "11"
      ]
     },
     "execution_count": 7,
     "metadata": {},
     "output_type": "execute_result"
    }
   ],
   "source": [
    "len(\"Hello World\")"
   ]
  },
  {
   "cell_type": "markdown",
   "id": "83204c12",
   "metadata": {},
   "source": [
    "<h1>Indexação em String</h1>\n",
    "\n",
    "<p>Sabemos que as strings são uma sequência, o que significa que o Python pode usar indices para chamar partes da sequêcia. Vamos aprender como isso funciona.</p>\n",
    "\n",
    "<p>Em Python, usamos colchetess após um objeto para chamar seu indice. Devemos também notar que a indexação começa em ) para Python.</p>\n",
    "\n",
    "<p>Vamos criar um novo objeto chamado <strong>\"s\"</strong> e caminharmos através de alguns exemplos de indexação.</p>"
   ]
  },
  {
   "cell_type": "markdown",
   "id": "8d40d1c2",
   "metadata": {},
   "source": [
    "<p><strong>Define s como uma String</strong></p>"
   ]
  },
  {
   "cell_type": "code",
   "execution_count": 8,
   "id": "3f88c85c",
   "metadata": {},
   "outputs": [],
   "source": [
    "s = \"Hello World\""
   ]
  },
  {
   "cell_type": "code",
   "execution_count": 9,
   "id": "d2d4b045",
   "metadata": {},
   "outputs": [
    {
     "data": {
      "text/plain": [
       "'Hello World'"
      ]
     },
     "execution_count": 9,
     "metadata": {},
     "output_type": "execute_result"
    }
   ],
   "source": [
    "#Mostra\n",
    "s"
   ]
  },
  {
   "cell_type": "code",
   "execution_count": 10,
   "id": "b002db53",
   "metadata": {},
   "outputs": [
    {
     "name": "stdout",
     "output_type": "stream",
     "text": [
      "Hello World\n"
     ]
    }
   ],
   "source": [
    "#printa o objeto\n",
    "print(s)"
   ]
  },
  {
   "cell_type": "markdown",
   "id": "7817735c",
   "metadata": {},
   "source": [
    "<p><strong>Vamos começar a indexar</strong></p>"
   ]
  },
  {
   "cell_type": "code",
   "execution_count": 11,
   "id": "494dfc2e",
   "metadata": {},
   "outputs": [
    {
     "data": {
      "text/plain": [
       "'H'"
      ]
     },
     "execution_count": 11,
     "metadata": {},
     "output_type": "execute_result"
    }
   ],
   "source": [
    "#Mostra o primeiro elemento\n",
    "s[0]"
   ]
  },
  {
   "cell_type": "code",
   "execution_count": 12,
   "id": "ae7735ba",
   "metadata": {},
   "outputs": [
    {
     "data": {
      "text/plain": [
       "'e'"
      ]
     },
     "execution_count": 12,
     "metadata": {},
     "output_type": "execute_result"
    }
   ],
   "source": [
    "s[1]"
   ]
  },
  {
   "cell_type": "code",
   "execution_count": 13,
   "id": "9393bfe2",
   "metadata": {},
   "outputs": [
    {
     "data": {
      "text/plain": [
       "'l'"
      ]
     },
     "execution_count": 13,
     "metadata": {},
     "output_type": "execute_result"
    }
   ],
   "source": [
    "s[2]"
   ]
  },
  {
   "cell_type": "markdown",
   "id": "e35f262b",
   "metadata": {},
   "source": [
    "<p>Podemos usar um <strong> : </strong> para executar corte que pega tudo até um ponto designado. Por exemplo:</p>"
   ]
  },
  {
   "cell_type": "code",
   "execution_count": 14,
   "id": "ad82d1c5",
   "metadata": {},
   "outputs": [
    {
     "data": {
      "text/plain": [
       "'ello World'"
      ]
     },
     "execution_count": 14,
     "metadata": {},
     "output_type": "execute_result"
    }
   ],
   "source": [
    "#Retorna todos elementos a parti do elemento 1\n",
    "s[1:]"
   ]
  },
  {
   "cell_type": "code",
   "execution_count": 16,
   "id": "40768405",
   "metadata": {},
   "outputs": [
    {
     "data": {
      "text/plain": [
       "'Hello World'"
      ]
     },
     "execution_count": 16,
     "metadata": {},
     "output_type": "execute_result"
    }
   ],
   "source": [
    "#observe que não há mudança no elemento\n",
    "s"
   ]
  },
  {
   "cell_type": "code",
   "execution_count": 18,
   "id": "a5a9f463",
   "metadata": {},
   "outputs": [
    {
     "data": {
      "text/plain": [
       "'Hel'"
      ]
     },
     "execution_count": 18,
     "metadata": {},
     "output_type": "execute_result"
    }
   ],
   "source": [
    "#Retorna tudo ate o elemento de indice 3\n",
    "s[:3]"
   ]
  },
  {
   "cell_type": "markdown",
   "id": "ff58193c",
   "metadata": {},
   "source": [
    "<p>Observe o corte acima. Aqui, estamos dizendo ao Python que pegue tudo de 0 a 3. Não ínclui o 3º indice. Você notara muito isso em Python, onde as declarações são geralmente até o contexto, mas não incluindo</p>"
   ]
  },
  {
   "cell_type": "code",
   "execution_count": 20,
   "id": "9f97f3f8",
   "metadata": {},
   "outputs": [
    {
     "data": {
      "text/plain": [
       "'Hello World'"
      ]
     },
     "execution_count": 20,
     "metadata": {},
     "output_type": "execute_result"
    }
   ],
   "source": [
    "#Tudo \n",
    "s[:]"
   ]
  },
  {
   "cell_type": "markdown",
   "id": "5dc530d1",
   "metadata": {},
   "source": [
    "<p>Também podemos usar indexação para retroceder.</p>"
   ]
  },
  {
   "cell_type": "code",
   "execution_count": 21,
   "id": "fcc7c888",
   "metadata": {},
   "outputs": [
    {
     "data": {
      "text/plain": [
       "'d'"
      ]
     },
     "execution_count": 21,
     "metadata": {},
     "output_type": "execute_result"
    }
   ],
   "source": [
    "#Ùltima letra(um indice antes do 0, então ele começa da parte de trás)\n",
    "s[-1]"
   ]
  },
  {
   "cell_type": "code",
   "execution_count": 22,
   "id": "09240745",
   "metadata": {},
   "outputs": [
    {
     "data": {
      "text/plain": [
       "'Hello Worl'"
      ]
     },
     "execution_count": 22,
     "metadata": {},
     "output_type": "execute_result"
    }
   ],
   "source": [
    "#Pega tudo, menos a última letra\n",
    "s[:-1]"
   ]
  },
  {
   "cell_type": "markdown",
   "id": "6f5a89d3",
   "metadata": {},
   "source": [
    "<p>Támbem podemos usar notação de indice e fatia para capturar elementos de uma sequência com espaçamentos(o espaçamento padrão é 1).Por exemplo, podemos usar dois pontos em uma linha e, em seguida, um número que especifica a frequencia para capturar elementos. Por exemplo: </p>"
   ]
  },
  {
   "cell_type": "code",
   "execution_count": 23,
   "id": "bd2e5886",
   "metadata": {},
   "outputs": [
    {
     "data": {
      "text/plain": [
       "'Hello World'"
      ]
     },
     "execution_count": 23,
     "metadata": {},
     "output_type": "execute_result"
    }
   ],
   "source": [
    "#Pega tudo, de 1 em 1\n",
    "s[::1]"
   ]
  },
  {
   "cell_type": "code",
   "execution_count": 24,
   "id": "2d2e881c",
   "metadata": {},
   "outputs": [
    {
     "data": {
      "text/plain": [
       "'HloWrd'"
      ]
     },
     "execution_count": 24,
     "metadata": {},
     "output_type": "execute_result"
    }
   ],
   "source": [
    "#Pega tudo mas os espaçamentos são de 2 em 2\n",
    "s[::2]"
   ]
  },
  {
   "cell_type": "code",
   "execution_count": 25,
   "id": "7bb61c34",
   "metadata": {},
   "outputs": [
    {
     "data": {
      "text/plain": [
       "'dlroW olleH'"
      ]
     },
     "execution_count": 25,
     "metadata": {},
     "output_type": "execute_result"
    }
   ],
   "source": [
    "#Pega tudo, mas com passos negativos, de trás para frente. \n",
    "s[::-1]"
   ]
  }
 ],
 "metadata": {
  "kernelspec": {
   "display_name": "Python 3",
   "language": "python",
   "name": "python3"
  },
  "language_info": {
   "codemirror_mode": {
    "name": "ipython",
    "version": 3
   },
   "file_extension": ".py",
   "mimetype": "text/x-python",
   "name": "python",
   "nbconvert_exporter": "python",
   "pygments_lexer": "ipython3",
   "version": "3.8.8"
  }
 },
 "nbformat": 4,
 "nbformat_minor": 5
}
