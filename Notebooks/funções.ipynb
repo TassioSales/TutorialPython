{
 "cells": [
  {
   "cell_type": "markdown",
   "source": [
    "<h1>Funções </h1>\r\n",
    "\r\n",
    "<h2>Introdução às Funções</h2>\r\n",
    "\r\n",
    "<p>Esta seção consistira em explicar o que é uma função em python e como criar uma. as funções serão um dos nossos principais blocos de construção quando construimos quantidades maiores de codigo para resolver problemas.</p>\r\n",
    "\r\n",
    "<p><strong>Então, o que é uma função ?</strong></p>\r\n",
    "\r\n",
    "<p>Formalmente, uma função é um dispositivo útil que agrupa um conjunto de instruções para que elas possam ser execultadas mais de um vez. Elas tambem podem nos permitir especificar parametros que possam servir como entrada para as funções.</p>\r\n",
    "\r\n",
    "<p>Em um nivel mais fundamental, as funções, as funções nos permitem não ter que repetidamento escrever o mesmo codigo repetidas vezes. Se você das lições em Strings e listas, lembre-se de que usamos uma função <strong>len()</strong> para obter o comprimento de uma string. Uma vez que verifica o comprimento de uma sequencia é uma tarefa comum, você  provavelmente vai querer escrever uma função que fazer isso repetidamente</p>\r\n",
    "\r\n",
    "<p>As funções serão um dos niveis mais basicos de código de reutilização em Python, e tambem nos permitira começãr a pensar no desigh do programa</p>\r\n",
    "\r\n",
    "<h2>def</h2>\r\n",
    "\r\n",
    "<p>Vamos ver como construir a sintaxe de uma funçaõ em python.Ela tem a seguninte forma</p> "
   ],
   "metadata": {}
  },
  {
   "cell_type": "code",
   "execution_count": 1,
   "source": [
    "def nome_da_funcao(arg1, arg2):\r\n",
    "    \"\"\"\r\n",
    "    A documentação da função ficara aqui\r\n",
    "    \"\"\"\r\n",
    "    # faça alguma coisa aqui\r\n",
    "\r\n",
    "    return #retorne o resultado desejado"
   ],
   "outputs": [],
   "metadata": {}
  },
  {
   "cell_type": "markdown",
   "source": [
    "<p>Começamos com <strong>def</strong>, seguinte do nome da função. Tente manter os nomes relevantes, por exemplo <strong>len()</strong> é um bom nome para uma função lengh. Também tenha cuidado com os nomes você não gostaria de chamar uma funçaõ do mesmo nome que uma função interna em python (como len)</p>\r\n",
    "\r\n",
    "<p>Em seguida, vem uma par de parenteses com varios argumentos separados por uma virgula. Esses argumentos são as entradas para a função. Você poderá usar essas entradas em sua função e fazer referencia a elas Depos disso, você coloca dois pontos.</p>\r\n",
    "\r\n",
    "<p>Agora, aqui é o passo importante, você deve identar para começar o codigo dentro de sua função corretamente. python faz uso de espaços em branco para organizar o codigo. Muitas outras linguagens de programação não fazem isso, então tenha isso em mente.</p>\r\n",
    "\r\n",
    "<p>Em seguida, você verá o doc-string. e aqui que você escreve uma descrição basica da função. documentações não são necessarias para funções simples, mas e um boa pratica colocá-las para que você ou  outras pessoas possam facilmente entender o codigo que você escreve.</p>\r\n",
    "\r\n",
    "<p>Depois de tudo isso, você começa a escrever o codigo que deseja executar</p>\r\n",
    "\r\n",
    "<p>A melhor maneira de aprender funções é atravez de exemplos. Então, vamos tentar passar pos exemplos que se relacionam com varios objetos e estruturas de dados que aprendemos anteriormente.</p>"
   ],
   "metadata": {}
  },
  {
   "cell_type": "code",
   "execution_count": 9,
   "source": [
    "def say_hello():\r\n",
    "    print(\"hello\")\r\n",
    "\r\n",
    "def diga_ola():\r\n",
    "    print(\"Olá\")"
   ],
   "outputs": [],
   "metadata": {}
  },
  {
   "cell_type": "markdown",
   "source": [
    "<p>Chame a função</p>"
   ],
   "metadata": {}
  },
  {
   "cell_type": "code",
   "execution_count": 11,
   "source": [
    "say_hello()\r\n",
    "diga_ola()"
   ],
   "outputs": [
    {
     "output_type": "stream",
     "name": "stdout",
     "text": [
      "hello\n",
      "Olá\n"
     ]
    }
   ],
   "metadata": {}
  },
  {
   "cell_type": "markdown",
   "source": [
    "<p>vamos escrever uma função que comprimenta a pessoas com seu nome.</p>"
   ],
   "metadata": {}
  },
  {
   "cell_type": "code",
   "execution_count": 19,
   "source": [
    "def greeting(name):\r\n",
    "    print(f\"Hello, {name}\")\r\n",
    "    print(\"Hello, {}\".format(name))\r\n",
    "    print(f\"Hello, %s \" %name)\r\n",
    "    print(\"Hello,\" + \" \" + name)\r\n",
    "\r\n",
    "def saudacoes(nome):\r\n",
    "    print(f\"Olá, {nome}\")\r\n",
    "    print(\"Olá, {}\".format(nome))\r\n",
    "    print(f\"Olá, %s\" %nome)\r\n",
    "    print(\"Olá \" + \" \" + nome )"
   ],
   "outputs": [],
   "metadata": {}
  },
  {
   "cell_type": "code",
   "execution_count": 20,
   "source": [
    "greeting(\"Tássio Sales\")\r\n",
    "saudacoes(\"Tássio Sales\")"
   ],
   "outputs": [
    {
     "output_type": "stream",
     "name": "stdout",
     "text": [
      "Hello, Tássio Sales\n",
      "Hello, Tássio Sales\n",
      "Hello, Tássio Sales \n",
      "Hello, Tássio Sales\n",
      "Olá, Tássio Sales\n",
      "Olá, Tássio Sales\n",
      "Olá, Tássio Sales\n",
      "Olá  Tássio Sales\n"
     ]
    }
   ],
   "metadata": {}
  },
  {
   "cell_type": "markdown",
   "source": [
    "<h2>Usando o return</h2>\r\n",
    "\r\n",
    "<p>Vamos ver um exemplos que usa uma declaração de retorno. A instruções <strong>return</strong> permite que uma função retorne uma resultado que pode ser ser armazenado em uma variavel por exemplo, ou usando de qualquer outra maneira.</p>"
   ],
   "metadata": {}
  },
  {
   "cell_type": "code",
   "execution_count": 21,
   "source": [
    "def add_num(num1, num2):\r\n",
    "    return num1 + num2"
   ],
   "outputs": [],
   "metadata": {}
  },
  {
   "cell_type": "code",
   "execution_count": 22,
   "source": [
    "add_num(4, 5)"
   ],
   "outputs": [
    {
     "output_type": "execute_result",
     "data": {
      "text/plain": [
       "9"
      ]
     },
     "metadata": {},
     "execution_count": 22
    }
   ],
   "metadata": {}
  },
  {
   "cell_type": "code",
   "execution_count": 23,
   "source": [
    "result = add_num(5,4)"
   ],
   "outputs": [],
   "metadata": {}
  },
  {
   "cell_type": "code",
   "execution_count": 24,
   "source": [
    "print(result)"
   ],
   "outputs": [
    {
     "output_type": "stream",
     "name": "stdout",
     "text": [
      "9\n"
     ]
    }
   ],
   "metadata": {}
  },
  {
   "cell_type": "code",
   "execution_count": 25,
   "source": [
    "#O que acontece se inserirmos duas strings?\r\n",
    "print(add_num(\"one\", \"two\"))"
   ],
   "outputs": [
    {
     "output_type": "stream",
     "name": "stdout",
     "text": [
      "onetwo\n"
     ]
    }
   ],
   "metadata": {}
  },
  {
   "cell_type": "markdown",
   "source": [
    "<p>Note, porque não declaramos tipos de variáveis em python, esta  função pode ser usada para adicionar números ou sequencia em conjunto</p>\r\n",
    "\r\n",
    "<p>Finalmente, vamos passar por um exemplo completo de criar uma função para verificar se um número é primo.</p>\r\n",
    "\r\n",
    "<p>Nós sabemos que uma número é primo ser esse número é apenas divisivel por um 1 ou por ele mesmo.Vamos escrever a nossa primeira verção da função para verificar todos os numeros de 1 a N e execultar a verificação de modulo.</p>\r\n"
   ],
   "metadata": {}
  },
  {
   "cell_type": "code",
   "execution_count": 50,
   "source": [
    "def e_primo(num):\r\n",
    "    \"\"\"\r\n",
    "    Método para checar se um numero e primo\r\n",
    "    \"\"\"\r\n",
    "    for n in range(2,num):\r\n",
    "        if num % n == 0:\r\n",
    "            print(f\"{num}, Não e primo\")\r\n",
    "            break\r\n",
    "        else: # Se o modulo nunca for Zero, O numero e primo\r\n",
    "            print(f\"{num}, É Primo\")\r\n",
    "            break"
   ],
   "outputs": [],
   "metadata": {}
  },
  {
   "cell_type": "code",
   "execution_count": 52,
   "source": [
    "e_primo(7)\r\n",
    "e_primo(16)"
   ],
   "outputs": [
    {
     "output_type": "stream",
     "name": "stdout",
     "text": [
      "7, É Primo\n",
      "16, Não e primo\n"
     ]
    }
   ],
   "metadata": {}
  },
  {
   "cell_type": "code",
   "execution_count": 54,
   "source": [
    "lista = [i for i in range(0,50)]\r\n",
    "for numero in lista:\r\n",
    "    e_primo(numero)"
   ],
   "outputs": [
    {
     "output_type": "stream",
     "name": "stdout",
     "text": [
      "3, É Primo\n",
      "4, Não e primo\n",
      "5, É Primo\n",
      "6, Não e primo\n",
      "7, É Primo\n",
      "8, Não e primo\n",
      "9, É Primo\n",
      "10, Não e primo\n",
      "11, É Primo\n",
      "12, Não e primo\n",
      "13, É Primo\n",
      "14, Não e primo\n",
      "15, É Primo\n",
      "16, Não e primo\n",
      "17, É Primo\n",
      "18, Não e primo\n",
      "19, É Primo\n",
      "20, Não e primo\n",
      "21, É Primo\n",
      "22, Não e primo\n",
      "23, É Primo\n",
      "24, Não e primo\n",
      "25, É Primo\n",
      "26, Não e primo\n",
      "27, É Primo\n",
      "28, Não e primo\n",
      "29, É Primo\n",
      "30, Não e primo\n",
      "31, É Primo\n",
      "32, Não e primo\n",
      "33, É Primo\n",
      "34, Não e primo\n",
      "35, É Primo\n",
      "36, Não e primo\n",
      "37, É Primo\n",
      "38, Não e primo\n",
      "39, É Primo\n",
      "40, Não e primo\n",
      "41, É Primo\n",
      "42, Não e primo\n",
      "43, É Primo\n",
      "44, Não e primo\n",
      "45, É Primo\n",
      "46, Não e primo\n",
      "47, É Primo\n",
      "48, Não e primo\n",
      "49, É Primo\n"
     ]
    }
   ],
   "metadata": {}
  },
  {
   "cell_type": "markdown",
   "source": [
    "<p>Observer como quebramos o co´digo apos a declaração de impressão! Na verdae, podemos melhorar isso ao verificar somente a raiz quadrada do numero-alvo, tambem podemos ignorar todos os numeros depois verificar 2. tabem mudaresmo para retorna uma valor booleano para obter um exemplo para usarmos declarações de retorno</p>"
   ],
   "metadata": {}
  },
  {
   "cell_type": "code",
   "execution_count": 59,
   "source": [
    "import math\r\n",
    "\r\n",
    "def e_primo(num):\r\n",
    "    \"\"\"\r\n",
    "    melhor metodo para checar se uma numero e primo\r\n",
    "    \"\"\"\r\n",
    "    if num % 2 == 0 and num > 2:\r\n",
    "        return False\r\n",
    "    for i in range(3, int(math.sqrt(num)) + 1, 2):\r\n",
    "        if num %  i == 0:\r\n",
    "            return False\r\n",
    "    return True"
   ],
   "outputs": [],
   "metadata": {}
  },
  {
   "cell_type": "code",
   "execution_count": 61,
   "source": [
    "e_primo(7)"
   ],
   "outputs": [
    {
     "output_type": "execute_result",
     "data": {
      "text/plain": [
       "True"
      ]
     },
     "metadata": {},
     "execution_count": 61
    }
   ],
   "metadata": {}
  },
  {
   "cell_type": "markdown",
   "source": [
    "<p>Ótimo! Você deve agora ter um compreensão básica sobre como criar suas proprias funções para salvar-se escrever repetidamente o codigo</p>"
   ],
   "metadata": {}
  },
  {
   "cell_type": "markdown",
   "source": [
    "ob"
   ],
   "metadata": {}
  }
 ],
 "metadata": {
  "orig_nbformat": 4,
  "language_info": {
   "name": "python",
   "version": "3.9.6",
   "mimetype": "text/x-python",
   "codemirror_mode": {
    "name": "ipython",
    "version": 3
   },
   "pygments_lexer": "ipython3",
   "nbconvert_exporter": "python",
   "file_extension": ".py"
  },
  "kernelspec": {
   "name": "python3",
   "display_name": "Python 3.9.6 64-bit (system)"
  },
  "interpreter": {
   "hash": "1202e818cab8df35c21d4988ef14ff76590a458d6bab584fe1b1c3f6f0c17a35"
  }
 },
 "nbformat": 4,
 "nbformat_minor": 2
}