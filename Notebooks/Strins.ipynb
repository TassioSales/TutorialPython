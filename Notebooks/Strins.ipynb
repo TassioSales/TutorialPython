{
 "cells": [
  {
   "cell_type": "markdown",
   "id": "1f85717c",
   "metadata": {},
   "source": [
    "<h1>Strings</h1>\n",
    "\n",
    "<p>As strings são usadas em Python para registrar informações de texto, como nomes ou frases. As strings em Python são na verdade uma sequência, o que basicamente significa que o python acompanha cada elemento da string como uma sequencia de caracteres.</p>\n",
    "\n",
    "<p>Por exemplo, Python entende a string <strong>\"hello\"</strong> como uma sequência de letras em uma ordem especifica. Isso significa que poderemos  usar a indexação para pegar letras particulares (como a primeira letra ou a última letra)</p>\n",
    "\n",
    "<p>Essas idéia de uma sequência e importante em Python e nós vamos abordá-la logo abaixo</p>\n",
    "\n",
    "<h1>Criando uma String</h1>\n",
    "\n",
    "<p>Para Criar uma string em Python, você precisa usar aspas simples ou aspas duplas. Por exemplo</p>"
   ]
  },
  {
   "cell_type": "markdown",
   "id": "68766e6e",
   "metadata": {},
   "source": [
    "<p><strong>Uma palavra</strong></p>"
   ]
  },
  {
   "cell_type": "code",
   "execution_count": 1,
   "id": "95ab3194",
   "metadata": {},
   "outputs": [
    {
     "data": {
      "text/plain": [
       "'hello'"
      ]
     },
     "execution_count": 1,
     "metadata": {},
     "output_type": "execute_result"
    }
   ],
   "source": [
    "'hello'"
   ]
  },
  {
   "cell_type": "markdown",
   "id": "dedb0b3d",
   "metadata": {},
   "source": [
    "<p><strong>Uma frase inteira</strong></p>"
   ]
  },
  {
   "cell_type": "code",
   "execution_count": 2,
   "id": "268c0c66",
   "metadata": {},
   "outputs": [
    {
     "data": {
      "text/plain": [
       "'Isso também é uma string'"
      ]
     },
     "execution_count": 2,
     "metadata": {},
     "output_type": "execute_result"
    }
   ],
   "source": [
    "'Isso também é uma string'"
   ]
  },
  {
   "cell_type": "markdown",
   "id": "579e1f07",
   "metadata": {},
   "source": [
    "<p><strong>Também é possivel usar aspas duplas</strong></p>"
   ]
  },
  {
   "cell_type": "code",
   "execution_count": 3,
   "id": "ec87d884",
   "metadata": {},
   "outputs": [
    {
     "data": {
      "text/plain": [
       "'String com aspas duplas'"
      ]
     },
     "execution_count": 3,
     "metadata": {},
     "output_type": "execute_result"
    }
   ],
   "source": [
    "\"String com aspas duplas\""
   ]
  },
  {
   "cell_type": "markdown",
   "id": "7772758c",
   "metadata": {},
   "source": [
    "<h1>Imprimindo uma String</h1>\n",
    "\n",
    "<p>Uma sequecia de caracteres emitirá automaticamente cadeias de caracteres, mas a maneira correta de exibir strings na sua saida é usando uma função de impressão</p>"
   ]
  },
  {
   "cell_type": "markdown",
   "id": "ca35dee7",
   "metadata": {},
   "source": [
    "<p><strong>Podemos simplismente declarar uma string</strong></p>"
   ]
  },
  {
   "cell_type": "code",
   "execution_count": 4,
   "id": "43d58a99",
   "metadata": {},
   "outputs": [
    {
     "data": {
      "text/plain": [
       "'Hello word'"
      ]
     },
     "execution_count": 4,
     "metadata": {},
     "output_type": "execute_result"
    }
   ],
   "source": [
    "'Hello word'"
   ]
  },
  {
   "cell_type": "markdown",
   "id": "43751b23",
   "metadata": {},
   "source": [
    "<p>Mas a maneira correta é utilizar o metodo <strong>print()</strong></p>"
   ]
  },
  {
   "cell_type": "code",
   "execution_count": 6,
   "id": "5a01eab2",
   "metadata": {},
   "outputs": [
    {
     "name": "stdout",
     "output_type": "stream",
     "text": [
      "Hello World 1\n",
      "Hello World 2\n",
      "Use \n",
      " para inserir uma nova linha\n",
      "Nova linha\n",
      "Hello World\n"
     ]
    }
   ],
   "source": [
    "print(\"Hello World 1\")\n",
    "print(\"Hello World 2\")\n",
    "print(\"Use \\n para inserir uma nova linha\")\n",
    "print(\"Nova linha\")\n",
    "print(\"Hello\", end =\" \")\n",
    "print(\"World\")"
   ]
  },
  {
   "cell_type": "markdown",
   "id": "4d399066",
   "metadata": {},
   "source": [
    "<p>Nós também podemos usar uma função chamada <strong>len()</strong> para verificar o comprimento de uma string! </p>"
   ]
  },
  {
   "cell_type": "code",
   "execution_count": 7,
   "id": "4c8de379",
   "metadata": {},
   "outputs": [
    {
     "data": {
      "text/plain": [
       "11"
      ]
     },
     "execution_count": 7,
     "metadata": {},
     "output_type": "execute_result"
    }
   ],
   "source": [
    "len(\"Hello World\")"
   ]
  },
  {
   "cell_type": "markdown",
   "id": "139cf514",
   "metadata": {},
   "source": [
    "<h1>Indexação em String</h1>\n",
    "\n",
    "<p>Sabemos que as strings são uma sequência, o que significa que o Python pode usar indices para chamar partes da sequêcia. Vamos aprender como isso funciona.</p>\n",
    "\n",
    "<p>Em Python, usamos colchetess após um objeto para chamar seu indice. Devemos também notar que a indexação começa em ) para Python.</p>\n",
    "\n",
    "<p>Vamos criar um novo objeto chamado <strong>\"s\"</strong> e caminharmos através de alguns exemplos de indexação.</p>"
   ]
  },
  {
   "cell_type": "markdown",
   "id": "0af3fe32",
   "metadata": {},
   "source": [
    "<p><strong>Define s como uma String</strong></p>"
   ]
  },
  {
   "cell_type": "code",
   "execution_count": 8,
   "id": "937b7d42",
   "metadata": {},
   "outputs": [],
   "source": [
    "s = \"Hello World\""
   ]
  },
  {
   "cell_type": "code",
   "execution_count": 9,
   "id": "a6d2b616",
   "metadata": {},
   "outputs": [
    {
     "data": {
      "text/plain": [
       "'Hello World'"
      ]
     },
     "execution_count": 9,
     "metadata": {},
     "output_type": "execute_result"
    }
   ],
   "source": [
    "#Mostra\n",
    "s"
   ]
  },
  {
   "cell_type": "code",
   "execution_count": 10,
   "id": "986cb169",
   "metadata": {},
   "outputs": [
    {
     "name": "stdout",
     "output_type": "stream",
     "text": [
      "Hello World\n"
     ]
    }
   ],
   "source": [
    "#printa o objeto\n",
    "print(s)"
   ]
  },
  {
   "cell_type": "markdown",
   "id": "2c36ae1d",
   "metadata": {},
   "source": [
    "<p><strong>Vamos começar a indexar</strong></p>"
   ]
  },
  {
   "cell_type": "code",
   "execution_count": 11,
   "id": "f6fb8bc9",
   "metadata": {},
   "outputs": [
    {
     "data": {
      "text/plain": [
       "'H'"
      ]
     },
     "execution_count": 11,
     "metadata": {},
     "output_type": "execute_result"
    }
   ],
   "source": [
    "#Mostra o primeiro elemento\n",
    "s[0]"
   ]
  },
  {
   "cell_type": "code",
   "execution_count": 12,
   "id": "963f8f15",
   "metadata": {},
   "outputs": [
    {
     "data": {
      "text/plain": [
       "'e'"
      ]
     },
     "execution_count": 12,
     "metadata": {},
     "output_type": "execute_result"
    }
   ],
   "source": [
    "s[1]"
   ]
  },
  {
   "cell_type": "code",
   "execution_count": 13,
   "id": "be1184ad",
   "metadata": {},
   "outputs": [
    {
     "data": {
      "text/plain": [
       "'l'"
      ]
     },
     "execution_count": 13,
     "metadata": {},
     "output_type": "execute_result"
    }
   ],
   "source": [
    "s[2]"
   ]
  },
  {
   "cell_type": "markdown",
   "id": "42479294",
   "metadata": {},
   "source": [
    "<p>Podemos usar um <strong> : </strong> para executar corte que pega tudo até um ponto designado. Por exemplo:</p>"
   ]
  },
  {
   "cell_type": "code",
   "execution_count": 14,
   "id": "80d9b0ed",
   "metadata": {},
   "outputs": [
    {
     "data": {
      "text/plain": [
       "'ello World'"
      ]
     },
     "execution_count": 14,
     "metadata": {},
     "output_type": "execute_result"
    }
   ],
   "source": [
    "#Retorna todos elementos a parti do elemento 1\n",
    "s[1:]"
   ]
  },
  {
   "cell_type": "code",
   "execution_count": 16,
   "id": "70260a1c",
   "metadata": {},
   "outputs": [
    {
     "data": {
      "text/plain": [
       "'Hello World'"
      ]
     },
     "execution_count": 16,
     "metadata": {},
     "output_type": "execute_result"
    }
   ],
   "source": [
    "#observe que não há mudança no elemento\n",
    "s"
   ]
  },
  {
   "cell_type": "code",
   "execution_count": 18,
   "id": "ce50c20a",
   "metadata": {},
   "outputs": [
    {
     "data": {
      "text/plain": [
       "'Hel'"
      ]
     },
     "execution_count": 18,
     "metadata": {},
     "output_type": "execute_result"
    }
   ],
   "source": [
    "#Retorna tudo ate o elemento de indice 3\n",
    "s[:3]"
   ]
  },
  {
   "cell_type": "markdown",
   "id": "7680e487",
   "metadata": {},
   "source": [
    "<p>Observe o corte acima. Aqui, estamos dizendo ao Python que pegue tudo de 0 a 3. Não ínclui o 3º indice. Você notara muito isso em Python, onde as declarações são geralmente até o contexto, mas não incluindo</p>"
   ]
  },
  {
   "cell_type": "code",
   "execution_count": 20,
   "id": "1eb7a6e4",
   "metadata": {},
   "outputs": [
    {
     "data": {
      "text/plain": [
       "'Hello World'"
      ]
     },
     "execution_count": 20,
     "metadata": {},
     "output_type": "execute_result"
    }
   ],
   "source": [
    "#Tudo \n",
    "s[:]"
   ]
  },
  {
   "cell_type": "markdown",
   "id": "e2bfcc17",
   "metadata": {},
   "source": [
    "<p>Também podemos usar indexação para retroceder.</p>"
   ]
  },
  {
   "cell_type": "code",
   "execution_count": 21,
   "id": "9c7e6530",
   "metadata": {},
   "outputs": [
    {
     "data": {
      "text/plain": [
       "'d'"
      ]
     },
     "execution_count": 21,
     "metadata": {},
     "output_type": "execute_result"
    }
   ],
   "source": [
    "#Ùltima letra(um indice antes do 0, então ele começa da parte de trás)\n",
    "s[-1]"
   ]
  },
  {
   "cell_type": "code",
   "execution_count": 22,
   "id": "02858bf4",
   "metadata": {},
   "outputs": [
    {
     "data": {
      "text/plain": [
       "'Hello Worl'"
      ]
     },
     "execution_count": 22,
     "metadata": {},
     "output_type": "execute_result"
    }
   ],
   "source": [
    "#Pega tudo, menos a última letra\n",
    "s[:-1]"
   ]
  },
  {
   "cell_type": "markdown",
   "id": "b92626ce",
   "metadata": {},
   "source": [
    "<p>Támbem podemos usar notação de indice e fatia para capturar elementos de uma sequência com espaçamentos(o espaçamento padrão é 1).Por exemplo, podemos usar dois pontos em uma linha e, em seguida, um número que especifica a frequencia para capturar elementos. Por exemplo: </p>"
   ]
  },
  {
   "cell_type": "code",
   "execution_count": 23,
   "id": "12419366",
   "metadata": {},
   "outputs": [
    {
     "data": {
      "text/plain": [
       "'Hello World'"
      ]
     },
     "execution_count": 23,
     "metadata": {},
     "output_type": "execute_result"
    }
   ],
   "source": [
    "#Pega tudo, de 1 em 1\n",
    "s[::1]"
   ]
  },
  {
   "cell_type": "code",
   "execution_count": 24,
   "id": "b38c8e63",
   "metadata": {},
   "outputs": [
    {
     "data": {
      "text/plain": [
       "'HloWrd'"
      ]
     },
     "execution_count": 24,
     "metadata": {},
     "output_type": "execute_result"
    }
   ],
   "source": [
    "#Pega tudo mas os espaçamentos são de 2 em 2\n",
    "s[::2]"
   ]
  },
  {
   "cell_type": "code",
   "execution_count": 25,
   "id": "f7596ec5",
   "metadata": {},
   "outputs": [
    {
     "data": {
      "text/plain": [
       "'dlroW olleH'"
      ]
     },
     "execution_count": 25,
     "metadata": {},
     "output_type": "execute_result"
    }
   ],
   "source": [
    "#Pega tudo, mas com passos negativos, de trás para frente. \n",
    "s[::-1]"
   ]
  },
  {
   "cell_type": "markdown",
   "id": "50d9da1d",
   "metadata": {},
   "source": [
    "<h3>Propriedades das Strigs</h3>"
   ]
  },
  {
   "cell_type": "markdown",
   "id": "d6ebf2c9",
   "metadata": {},
   "source": [
    "<p>È importante notar que as strigs têm uma propriedade importante conhecida como imutabilidade. Isso significa que, uma vez que uma string é criada, os elementos nela não podem ser alterados ou substituidos. Por exemplo</p>"
   ]
  },
  {
   "cell_type": "code",
   "execution_count": 26,
   "id": "abebec85",
   "metadata": {},
   "outputs": [
    {
     "data": {
      "text/plain": [
       "'Hello World'"
      ]
     },
     "execution_count": 26,
     "metadata": {},
     "output_type": "execute_result"
    }
   ],
   "source": [
    "s"
   ]
  },
  {
   "cell_type": "code",
   "execution_count": 27,
   "id": "9a91b5f3",
   "metadata": {},
   "outputs": [
    {
     "ename": "TypeError",
     "evalue": "'str' object does not support item assignment",
     "output_type": "error",
     "traceback": [
      "\u001b[1;31m---------------------------------------------------------------------------\u001b[0m",
      "\u001b[1;31mTypeError\u001b[0m                                 Traceback (most recent call last)",
      "\u001b[1;32m<ipython-input-27-fd684b661ffa>\u001b[0m in \u001b[0;36m<module>\u001b[1;34m\u001b[0m\n\u001b[0;32m      1\u001b[0m \u001b[1;31m#Vamos tentar mudar a primeira letra palavra\u001b[0m\u001b[1;33m\u001b[0m\u001b[1;33m\u001b[0m\u001b[1;33m\u001b[0m\u001b[0m\n\u001b[1;32m----> 2\u001b[1;33m \u001b[0ms\u001b[0m\u001b[1;33m[\u001b[0m\u001b[1;36m0\u001b[0m\u001b[1;33m]\u001b[0m \u001b[1;33m=\u001b[0m \u001b[1;34m\"X\"\u001b[0m\u001b[1;33m\u001b[0m\u001b[1;33m\u001b[0m\u001b[0m\n\u001b[0m",
      "\u001b[1;31mTypeError\u001b[0m: 'str' object does not support item assignment"
     ]
    }
   ],
   "source": [
    "#Vamos tentar mudar a primeira letra palavra\n",
    "s[0] = \"X\""
   ]
  },
  {
   "cell_type": "markdown",
   "id": "05477203",
   "metadata": {},
   "source": [
    "<p>Observe como o erro nos diz diretamente o que não podemos fazer, alterar a atribuição do item!</p>\n",
    "<p>Algo que podemos fazer é concatenar strings</p>"
   ]
  },
  {
   "cell_type": "code",
   "execution_count": 28,
   "id": "5069c726",
   "metadata": {},
   "outputs": [
    {
     "data": {
      "text/plain": [
       "'Hello World'"
      ]
     },
     "execution_count": 28,
     "metadata": {},
     "output_type": "execute_result"
    }
   ],
   "source": [
    "s"
   ]
  },
  {
   "cell_type": "code",
   "execution_count": 30,
   "id": "38c19c7d",
   "metadata": {},
   "outputs": [
    {
     "data": {
      "text/plain": [
       "'Hello World concatenate me!'"
      ]
     },
     "execution_count": 30,
     "metadata": {},
     "output_type": "execute_result"
    }
   ],
   "source": [
    "#Concatenar as strings\n",
    "s + ' concatenate me!'"
   ]
  },
  {
   "cell_type": "code",
   "execution_count": 31,
   "id": "4fb10abd",
   "metadata": {},
   "outputs": [],
   "source": [
    "#Assim podemos redefinor completamente s\n",
    "s = s + ' concatenate me!'"
   ]
  },
  {
   "cell_type": "code",
   "execution_count": 32,
   "id": "7f3b9411",
   "metadata": {},
   "outputs": [
    {
     "name": "stdout",
     "output_type": "stream",
     "text": [
      "Hello World concatenate me!\n"
     ]
    }
   ],
   "source": [
    "print(s)"
   ]
  },
  {
   "cell_type": "code",
   "execution_count": 33,
   "id": "cbba0c33",
   "metadata": {},
   "outputs": [
    {
     "data": {
      "text/plain": [
       "'Hello World concatenate me!'"
      ]
     },
     "execution_count": 33,
     "metadata": {},
     "output_type": "execute_result"
    }
   ],
   "source": [
    "s"
   ]
  },
  {
   "cell_type": "markdown",
   "id": "8e1ec730",
   "metadata": {},
   "source": [
    "<p>Podemos usar o simbolo de multiplicação para criar repetições!</p>"
   ]
  },
  {
   "cell_type": "code",
   "execution_count": 34,
   "id": "ed60824f",
   "metadata": {},
   "outputs": [],
   "source": [
    "letter = \"z\""
   ]
  },
  {
   "cell_type": "code",
   "execution_count": 35,
   "id": "4d7a20cd",
   "metadata": {},
   "outputs": [
    {
     "data": {
      "text/plain": [
       "'zzzzzzzzzz'"
      ]
     },
     "execution_count": 35,
     "metadata": {},
     "output_type": "execute_result"
    }
   ],
   "source": [
    "letter * 10"
   ]
  },
  {
   "cell_type": "markdown",
   "id": "a5b40bdf",
   "metadata": {},
   "source": [
    "<h3>Metodos embutidos em strigs</h3>"
   ]
  },
  {
   "cell_type": "markdown",
   "id": "8e6af5d3",
   "metadata": {},
   "source": [
    "<p>Os objetos em Python geralmente possuem métodos internos. Esses metodos são funções dentro do objeto que podem executar ações ou comandos no próprio objeto</p>\n",
    "\n",
    "<p>Chamamos métodos com um ponto e depois o nome do metodo. Os métodos estão na forma objeto.metodo(parametro)</p>\n",
    "\n",
    "<p>Onde os parametros são argumentos extras que podemos passar o metodo</p>\n",
    "\n",
    "<p>Aqui estão alguns exemplos de métodos internos em strings</p>"
   ]
  },
  {
   "cell_type": "code",
   "execution_count": 36,
   "id": "f9e89b42",
   "metadata": {},
   "outputs": [
    {
     "data": {
      "text/plain": [
       "'Hello World concatenate me!'"
      ]
     },
     "execution_count": 36,
     "metadata": {},
     "output_type": "execute_result"
    }
   ],
   "source": [
    "s"
   ]
  },
  {
   "cell_type": "code",
   "execution_count": 37,
   "id": "488cd8f5",
   "metadata": {},
   "outputs": [
    {
     "data": {
      "text/plain": [
       "'HELLO WORLD CONCATENATE ME!'"
      ]
     },
     "execution_count": 37,
     "metadata": {},
     "output_type": "execute_result"
    }
   ],
   "source": [
    "#Coloca toda string em caixa alta\n",
    "s.upper()"
   ]
  },
  {
   "cell_type": "code",
   "execution_count": 38,
   "id": "1225a330",
   "metadata": {},
   "outputs": [
    {
     "data": {
      "text/plain": [
       "'hello world concatenate me!'"
      ]
     },
     "execution_count": 38,
     "metadata": {},
     "output_type": "execute_result"
    }
   ],
   "source": [
    "#Coloca toda string em caixa baixa\n",
    "s.lower()"
   ]
  },
  {
   "cell_type": "code",
   "execution_count": 39,
   "id": "35a89122",
   "metadata": {},
   "outputs": [
    {
     "data": {
      "text/plain": [
       "['Hello', 'World', 'concatenate', 'me!']"
      ]
     },
     "execution_count": 39,
     "metadata": {},
     "output_type": "execute_result"
    }
   ],
   "source": [
    "#Divide uma string nos espaços em branco (este é o padrão)\n",
    "s.split()"
   ]
  },
  {
   "cell_type": "code",
   "execution_count": 40,
   "id": "006d666d",
   "metadata": {},
   "outputs": [
    {
     "data": {
      "text/plain": [
       "['Hello ', 'orld concatenate me!']"
      ]
     },
     "execution_count": 40,
     "metadata": {},
     "output_type": "execute_result"
    }
   ],
   "source": [
    "#Divide em um elemento especifico (não inclui o elemento que foi dividido)\n",
    "s.split(\"W\")"
   ]
  },
  {
   "cell_type": "markdown",
   "id": "d7bbcade",
   "metadata": {},
   "source": [
    "<p>Existem outros métodos do que os abrangidos aqui. Visite a seção Strings avançadas para descobrir mais!</p>"
   ]
  }
 ],
 "metadata": {
  "kernelspec": {
   "display_name": "Python 3",
   "language": "python",
   "name": "python3"
  },
  "language_info": {
   "codemirror_mode": {
    "name": "ipython",
    "version": 3
   },
   "file_extension": ".py",
   "mimetype": "text/x-python",
   "name": "python",
   "nbconvert_exporter": "python",
   "pygments_lexer": "ipython3",
   "version": "3.8.8"
  }
 },
 "nbformat": 4,
 "nbformat_minor": 5
}
