{
 "cells": [
  {
   "cell_type": "markdown",
   "id": "f595bc2e",
   "metadata": {},
   "source": [
    "<h1>Hello, Python</h1>\n",
    "<h4>Bem vindo ao Python</h4> \n",
    "\n",
    "<p>São várias as caracteristicas do Python que o tornam uma linguagem tão promissora e que atrai a cada dia, mais desenvolvedores.A Seguir, foram elucidados alguma dessas caracteristicas e junto uam breve descrição.</p>\n",
    "\n",
    "<strong>Facil de aprender:</strong>\n",
    "<p>O Python é uma linguagem fácil de ser aprendida e poderosa para trabalharmos. A mesma possui uma sintase limpa e clara como também, contém um conjunto de bibliotescas estáveis e bem estruturadas.</p>\n",
    "\n",
    "<strong>Fácil leitura e compreensão:</strong>\n",
    "<p>A sintaxe da linguagem é minimalista, isso é matém somente o necessário, o que torna o código escrito, muitas vezes,a um testo em inglês</p>\n",
    "\n",
    "<strong>Fácil manutenção:</strong>\n",
    "<p>Em decorrência da simplicidade sintática e da excelente estruturação das bibliotescas, a manutenção de codigos, seja aquele que desenvolvemos ou mesmo de terceiros muito mais facil e compreensível</p>\n",
    "\n",
    "<strong>Multiplataforma:</strong>\n",
    "\n",
    "<p>O interpretador do python é escrito com Linguagem <strong>C</strong> e <strong>C++</strong>, assim, o mesmo pode ser portado a todas as plataformas que possuam compiladores para a linguagem. Tendo em vista que o <strong>C++</strong> é a linguagem mais difundida e a base de praticamente toda a informática, temos compiladores nativos ou portados para quase todas as plataformas existentes.</p>\n",
    "\n",
    "\n",
    "<strong>Modo interativo</strong>\n",
    "\n",
    "<p>Sendo o Python uma linguagem interpretada, foi possivel o desenvolvimento de ferramentas interativas, isto é, ferramentas majostariamente em linha de comando, onde podemos execultar instruções e analisa a saída.</p>\n",
    "\n",
    "<p>Hoje Python está presente nas áreas de Desenvolvimento Web, Inteligencia Artificial, Computação Grafica, Big Data, Ciencias de Dados e Muito Mais!</p>\n",
    "\n",
    "<p>Os tópicos aqui elucidados estão longe de esgotar os recursos do Python! Por essa razão. continuaresmos o nosso estudo sobre as principais caracteríscas e recursos da linguagem nos proximos seções.</p>\n",
    "\n",
    "<p>Vamos agora escrever nosso primeiro código em Python, Printando na tela Hello, Python</p>"
   ]
  },
  {
   "cell_type": "code",
   "execution_count": 1,
   "id": "c7c676f2",
   "metadata": {},
   "outputs": [
    {
     "name": "stdout",
     "output_type": "stream",
     "text": [
      "Hello, Python\n"
     ]
    }
   ],
   "source": [
    "print(\"Hello, Python\")"
   ]
  }
 ],
 "metadata": {
  "kernelspec": {
   "display_name": "Python 3",
   "language": "python",
   "name": "python3"
  },
  "language_info": {
   "codemirror_mode": {
    "name": "ipython",
    "version": 3
   },
   "file_extension": ".py",
   "mimetype": "text/x-python",
   "name": "python",
   "nbconvert_exporter": "python",
   "pygments_lexer": "ipython3",
   "version": "3.8.8"
  }
 },
 "nbformat": 4,
 "nbformat_minor": 5
}
